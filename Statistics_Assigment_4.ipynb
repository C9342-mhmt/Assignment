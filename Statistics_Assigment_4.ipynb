{
  "nbformat": 4,
  "nbformat_minor": 0,
  "metadata": {
    "colab": {
      "name": "Statistics Assigment-4.ipynb",
      "provenance": [],
      "collapsed_sections": [],
      "authorship_tag": "ABX9TyOu+utBK2Vr2XYetpIYT0/O",
      "include_colab_link": true
    },
    "kernelspec": {
      "name": "python3",
      "display_name": "Python 3"
    },
    "language_info": {
      "name": "python"
    }
  },
  "cells": [
    {
      "cell_type": "markdown",
      "metadata": {
        "id": "view-in-github",
        "colab_type": "text"
      },
      "source": [
        "<a href=\"https://colab.research.google.com/github/C9342-mhmt/Assignment/blob/main/Statistics_Assigment_4.ipynb\" target=\"_parent\"><img src=\"https://colab.research.google.com/assets/colab-badge.svg\" alt=\"Open In Colab\"/></a>"
      ]
    },
    {
      "cell_type": "code",
      "metadata": {
        "id": "-FD4fB_DMjEf"
      },
      "source": [
        "import numpy as np\n",
        "import pandas as pd\n",
        "from scipy import stats\n",
        "import matplotlib.pyplot as plt"
      ],
      "execution_count": 1,
      "outputs": []
    },
    {
      "cell_type": "code",
      "metadata": {
        "id": "GPS6DUKpMz_V"
      },
      "source": [
        ""
      ],
      "execution_count": null,
      "outputs": []
    },
    {
      "cell_type": "markdown",
      "metadata": {
        "id": "WPAOom5RNE-m"
      },
      "source": [
        "EXERCISE 1."
      ]
    },
    {
      "cell_type": "code",
      "metadata": {
        "colab": {
          "base_uri": "https://localhost:8080/"
        },
        "id": "tj7SHQNYM0Rl",
        "outputId": "7598e957-2345-4bfa-ed1d-0b8d801541e1"
      },
      "source": [
        "# 1\n",
        "\n",
        "n = 100\n",
        "p = 0.03\n",
        "x = 0\n",
        "\n",
        "1-stats.binom.pmf(x,n,p)"
      ],
      "execution_count": 2,
      "outputs": [
        {
          "output_type": "execute_result",
          "data": {
            "text/plain": [
              "0.9524474920745942"
            ]
          },
          "metadata": {},
          "execution_count": 2
        }
      ]
    },
    {
      "cell_type": "code",
      "metadata": {
        "colab": {
          "base_uri": "https://localhost:8080/"
        },
        "id": "qC6_VflNM0eg",
        "outputId": "f15adfb6-8b89-4472-f657-ad80e54be7a2"
      },
      "source": [
        "# 2\n",
        "# i)\n",
        "\n",
        "n = 10\n",
        "p = 0.5\n",
        "x = 6\n",
        "1-stats.binom.cdf(x,n,p)\n"
      ],
      "execution_count": 3,
      "outputs": [
        {
          "output_type": "execute_result",
          "data": {
            "text/plain": [
              "0.171875"
            ]
          },
          "metadata": {},
          "execution_count": 3
        }
      ]
    },
    {
      "cell_type": "code",
      "metadata": {
        "colab": {
          "base_uri": "https://localhost:8080/"
        },
        "id": "w__b6EcWM0nU",
        "outputId": "5b4b1f28-88af-4820-a58d-045bd2342091"
      },
      "source": [
        "# 2\n",
        "# ii)\n",
        "\n",
        "x = 7\n",
        "stats.binom.pmf(x,n,p)"
      ],
      "execution_count": 4,
      "outputs": [
        {
          "output_type": "execute_result",
          "data": {
            "text/plain": [
              "0.11718750000000014"
            ]
          },
          "metadata": {},
          "execution_count": 4
        }
      ]
    },
    {
      "cell_type": "code",
      "metadata": {
        "colab": {
          "base_uri": "https://localhost:8080/"
        },
        "id": "VbquwLZVM0tF",
        "outputId": "bedd9888-f44c-4946-8995-e4ce6ef671a9"
      },
      "source": [
        "# 2\n",
        "# iii)\n",
        "\n",
        "x = 7\n",
        "stats.binom.cdf(x,n, p)"
      ],
      "execution_count": 5,
      "outputs": [
        {
          "output_type": "execute_result",
          "data": {
            "text/plain": [
              "0.9453125"
            ]
          },
          "metadata": {},
          "execution_count": 5
        }
      ]
    },
    {
      "cell_type": "code",
      "metadata": {
        "id": "gQY8N6VbM0yt"
      },
      "source": [
        ""
      ],
      "execution_count": null,
      "outputs": []
    },
    {
      "cell_type": "code",
      "metadata": {
        "id": "hLuoog0YN8YO"
      },
      "source": [
        ""
      ],
      "execution_count": null,
      "outputs": []
    },
    {
      "cell_type": "markdown",
      "metadata": {
        "id": "iHsKaJ0eN4_-"
      },
      "source": [
        "EXERCISE 2."
      ]
    },
    {
      "cell_type": "code",
      "metadata": {
        "colab": {
          "base_uri": "https://localhost:8080/"
        },
        "id": "gtE8OtqcM04Y",
        "outputId": "7a852aaa-5aa0-413b-940c-bd1976814ad2"
      },
      "source": [
        "a, b  = 50, 70\n",
        "Distrib = stats.uniform(a,b-a)\n",
        "\n",
        "# A:\n",
        "pA=1-Distrib.cdf(65)\n",
        "pA"
      ],
      "execution_count": 13,
      "outputs": [
        {
          "output_type": "execute_result",
          "data": {
            "text/plain": [
              "0.25"
            ]
          },
          "metadata": {},
          "execution_count": 13
        }
      ]
    },
    {
      "cell_type": "code",
      "metadata": {
        "colab": {
          "base_uri": "https://localhost:8080/"
        },
        "id": "E4jREc3xM08J",
        "outputId": "763e8054-7529-4791-e689-a55c12cdefe7"
      },
      "source": [
        "# B:\n",
        "\n",
        "pB=1-Distrib.cdf(55)\n",
        "pB"
      ],
      "execution_count": 14,
      "outputs": [
        {
          "output_type": "execute_result",
          "data": {
            "text/plain": [
              "0.75"
            ]
          },
          "metadata": {},
          "execution_count": 14
        }
      ]
    },
    {
      "cell_type": "code",
      "metadata": {
        "colab": {
          "base_uri": "https://localhost:8080/"
        },
        "id": "FBwDqSOwOHZ0",
        "outputId": "cffe5d2f-d26a-4d25-c9be-fe02111bd006"
      },
      "source": [
        "# p(A | B ) = p(A n B)/p( B )\n",
        "# p(A n B) = p( A ) \n",
        "pAB=pA/pB\n",
        "print(\"p(A | B ): \", pAB)"
      ],
      "execution_count": 15,
      "outputs": [
        {
          "output_type": "stream",
          "name": "stdout",
          "text": [
            "p(A | B ):  0.3333333333333333\n"
          ]
        }
      ]
    },
    {
      "cell_type": "code",
      "metadata": {
        "id": "I-1QLJ3iOJ9_"
      },
      "source": [
        ""
      ],
      "execution_count": null,
      "outputs": []
    },
    {
      "cell_type": "code",
      "metadata": {
        "id": "cGs8jom7OJn_"
      },
      "source": [
        ""
      ],
      "execution_count": null,
      "outputs": []
    },
    {
      "cell_type": "markdown",
      "metadata": {
        "id": "7znHngwrOL_I"
      },
      "source": [
        "EXERCISE 3.\n"
      ]
    },
    {
      "cell_type": "code",
      "metadata": {
        "colab": {
          "base_uri": "https://localhost:8080/"
        },
        "id": "t98N76NBOOag",
        "outputId": "c9fb9697-91b9-4631-9722-93ae5ddf7638"
      },
      "source": [
        "# 1\n",
        "\n",
        "mu=950\n",
        "sigma=10\n",
        "\n",
        "stats.norm.cdf(958,mu,sigma)-stats.norm.cdf(947,mu,sigma)"
      ],
      "execution_count": 9,
      "outputs": [
        {
          "output_type": "execute_result",
          "data": {
            "text/plain": [
              "0.406056023605556"
            ]
          },
          "metadata": {},
          "execution_count": 9
        }
      ]
    },
    {
      "cell_type": "code",
      "metadata": {
        "colab": {
          "base_uri": "https://localhost:8080/"
        },
        "id": "_yxS3pQpOaY7",
        "outputId": "f89eba68-3d68-4bf2-c722-508a5f77ca52"
      },
      "source": [
        "# 2\n",
        "\n",
        "stats.norm.ppf(0.8531,mu,sigma)"
      ],
      "execution_count": 10,
      "outputs": [
        {
          "output_type": "execute_result",
          "data": {
            "text/plain": [
              "960.4982190962642"
            ]
          },
          "metadata": {},
          "execution_count": 10
        }
      ]
    },
    {
      "cell_type": "code",
      "metadata": {
        "id": "S6T77eYXOehw"
      },
      "source": [
        ""
      ],
      "execution_count": null,
      "outputs": []
    },
    {
      "cell_type": "code",
      "metadata": {
        "id": "ldEPv_suOeXj"
      },
      "source": [
        ""
      ],
      "execution_count": null,
      "outputs": []
    },
    {
      "cell_type": "markdown",
      "metadata": {
        "id": "ADDDrZGZOgKK"
      },
      "source": [
        "EXERCISE 4."
      ]
    },
    {
      "cell_type": "code",
      "metadata": {
        "colab": {
          "base_uri": "https://localhost:8080/"
        },
        "id": "elpqgciqOjfE",
        "outputId": "f4e60176-bd2f-4d9c-9016-b15e015e25b5"
      },
      "source": [
        "s = 3   # standard deviation of sample\n",
        "n = 36    # size of sample\n",
        "cl = 0.90     # confidence level\n",
        "xbar = 68     # sample mean\n",
        "\n",
        "stats.norm.interval(alpha=cl, loc=xbar, scale=s/np.sqrt(n))"
      ],
      "execution_count": 17,
      "outputs": [
        {
          "output_type": "execute_result",
          "data": {
            "text/plain": [
              "(67.17757318652427, 68.82242681347573)"
            ]
          },
          "metadata": {},
          "execution_count": 17
        }
      ]
    },
    {
      "cell_type": "code",
      "metadata": {
        "id": "L48dSn8VOpln"
      },
      "source": [
        ""
      ],
      "execution_count": null,
      "outputs": []
    },
    {
      "cell_type": "code",
      "metadata": {
        "id": "hh_pxhaWOjTU"
      },
      "source": [
        ""
      ],
      "execution_count": null,
      "outputs": []
    },
    {
      "cell_type": "markdown",
      "metadata": {
        "id": "AyUs3kbcOqrC"
      },
      "source": [
        "EXERCISE 5."
      ]
    },
    {
      "cell_type": "code",
      "metadata": {
        "colab": {
          "base_uri": "https://localhost:8080/"
        },
        "id": "_MpLu9NiOtG1",
        "outputId": "cb8eb087-9e28-41cd-d52c-d82981e68e42"
      },
      "source": [
        "# 1\n",
        "\n",
        "n = 130\n",
        "xbar = 98.25\n",
        "s = 0.73\n",
        "cl = 0.99\n",
        "\n",
        "stats.norm.interval(alpha=cl, loc=xbar, scale=s/np.sqrt(n))"
      ],
      "execution_count": 18,
      "outputs": [
        {
          "output_type": "execute_result",
          "data": {
            "text/plain": [
              "(98.08508192246582, 98.41491807753418)"
            ]
          },
          "metadata": {},
          "execution_count": 18
        }
      ]
    },
    {
      "cell_type": "code",
      "metadata": {
        "id": "xhoZ_OmWOxII"
      },
      "source": [
        "# 2\n",
        "\n",
        "# 99% confident interval doesn't contain 98.6 degrees."
      ],
      "execution_count": null,
      "outputs": []
    }
  ]
}