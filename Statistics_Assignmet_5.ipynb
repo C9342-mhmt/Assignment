{
  "nbformat": 4,
  "nbformat_minor": 0,
  "metadata": {
    "colab": {
      "name": "Statistics_Assignmet_5.ipynb",
      "provenance": [],
      "collapsed_sections": [],
      "authorship_tag": "ABX9TyM1hCeHqw9NwZjnIQMP4gi8",
      "include_colab_link": true
    },
    "kernelspec": {
      "name": "python3",
      "display_name": "Python 3"
    },
    "language_info": {
      "name": "python"
    }
  },
  "cells": [
    {
      "cell_type": "markdown",
      "metadata": {
        "id": "view-in-github",
        "colab_type": "text"
      },
      "source": [
        "<a href=\"https://colab.research.google.com/github/C9342-mhmt/Assignment/blob/main/Statistics_Assignmet_5.ipynb\" target=\"_parent\"><img src=\"https://colab.research.google.com/assets/colab-badge.svg\" alt=\"Open In Colab\"/></a>"
      ]
    },
    {
      "cell_type": "code",
      "metadata": {
        "id": "HepDebYTWHNA"
      },
      "source": [
        "import numpy as np\n",
        "import pandas as pd\n",
        "import seaborn as sns\n",
        "import scipy as sp\n",
        "from scipy import stats\n",
        "import matplotlib.pyplot as plt\n",
        "import math\n",
        "import warnings\n",
        "warnings.filterwarnings(\"ignore\")"
      ],
      "execution_count": 1,
      "outputs": []
    },
    {
      "cell_type": "code",
      "metadata": {
        "colab": {
          "base_uri": "https://localhost:8080/"
        },
        "id": "4LNkK2cEWcRE",
        "outputId": "9accf2f5-cfb3-41bb-973d-46e523ec0a0b"
      },
      "source": [
        "# EXERCISE 1\n",
        "\n",
        "n = 40\n",
        "sigma = 2.50\n",
        "mu = 13.20\n",
        "xbar = 12.20\n",
        "\n",
        "ztest = (xbar - mu) / (sigma / np.sqrt(n))\n",
        "ztest"
      ],
      "execution_count": 76,
      "outputs": [
        {
          "output_type": "execute_result",
          "data": {
            "text/plain": [
              "-2.5298221281347035"
            ]
          },
          "metadata": {},
          "execution_count": 76
        }
      ]
    },
    {
      "cell_type": "code",
      "metadata": {
        "colab": {
          "base_uri": "https://localhost:8080/"
        },
        "id": "ICiNLeiSWcnO",
        "outputId": "656c99eb-d013-4acf-a858-55d096500234"
      },
      "source": [
        "pvalue = stats.norm.cdf(z_test) # left side area\n",
        "pvalue"
      ],
      "execution_count": 77,
      "outputs": [
        {
          "output_type": "execute_result",
          "data": {
            "text/plain": [
              "0.005706018193000826"
            ]
          },
          "metadata": {},
          "execution_count": 77
        }
      ]
    },
    {
      "cell_type": "code",
      "metadata": {
        "colab": {
          "base_uri": "https://localhost:8080/"
        },
        "id": "1bRtOeH5Wc4D",
        "outputId": "ec185f02-cab9-49a1-9596-6898dd61bbc8"
      },
      "source": [
        "# Comparing \"p_value\" with \"α\" value\n",
        " \n",
        "alpha = 0.01   # (α = 1% --> 1-99%) \n",
        "\n",
        "if pvalue < alpha:\n",
        "    print(\"reject the null\")\n",
        "else:\n",
        "    print(\"fail to reject\")"
      ],
      "execution_count": 78,
      "outputs": [
        {
          "output_type": "stream",
          "name": "stdout",
          "text": [
            "reject the null\n"
          ]
        }
      ]
    },
    {
      "cell_type": "code",
      "metadata": {
        "id": "DZsJ-QDOWdFL"
      },
      "source": [
        ""
      ],
      "execution_count": null,
      "outputs": []
    },
    {
      "cell_type": "code",
      "metadata": {
        "id": "kXxzqmXyWdRH"
      },
      "source": [
        "# EXERCISE 2\n",
        "\n",
        "α = 0.01"
      ],
      "execution_count": 5,
      "outputs": []
    },
    {
      "cell_type": "code",
      "metadata": {
        "colab": {
          "base_uri": "https://localhost:8080/",
          "height": 204
        },
        "id": "iF4nUB2nWdb-",
        "outputId": "aa1c8a7e-b6cc-4a7a-9187-7b24534eaae9"
      },
      "source": [
        "df_soil = pd.read_csv(\"/content/soil - Sheet1.csv\")\n",
        "df_soil.head()"
      ],
      "execution_count": 79,
      "outputs": [
        {
          "output_type": "execute_result",
          "data": {
            "text/html": [
              "<div>\n",
              "<style scoped>\n",
              "    .dataframe tbody tr th:only-of-type {\n",
              "        vertical-align: middle;\n",
              "    }\n",
              "\n",
              "    .dataframe tbody tr th {\n",
              "        vertical-align: top;\n",
              "    }\n",
              "\n",
              "    .dataframe thead th {\n",
              "        text-align: right;\n",
              "    }\n",
              "</style>\n",
              "<table border=\"1\" class=\"dataframe\">\n",
              "  <thead>\n",
              "    <tr style=\"text-align: right;\">\n",
              "      <th></th>\n",
              "      <th>Soil1</th>\n",
              "      <th>Soil2</th>\n",
              "    </tr>\n",
              "  </thead>\n",
              "  <tbody>\n",
              "    <tr>\n",
              "      <th>0</th>\n",
              "      <td>1.442</td>\n",
              "      <td>1.364</td>\n",
              "    </tr>\n",
              "    <tr>\n",
              "      <th>1</th>\n",
              "      <td>1.943</td>\n",
              "      <td>1.878</td>\n",
              "    </tr>\n",
              "    <tr>\n",
              "      <th>2</th>\n",
              "      <td>1.110</td>\n",
              "      <td>1.337</td>\n",
              "    </tr>\n",
              "    <tr>\n",
              "      <th>3</th>\n",
              "      <td>1.912</td>\n",
              "      <td>1.828</td>\n",
              "    </tr>\n",
              "    <tr>\n",
              "      <th>4</th>\n",
              "      <td>1.553</td>\n",
              "      <td>1.371</td>\n",
              "    </tr>\n",
              "  </tbody>\n",
              "</table>\n",
              "</div>"
            ],
            "text/plain": [
              "   Soil1  Soil2\n",
              "0  1.442  1.364\n",
              "1  1.943  1.878\n",
              "2  1.110  1.337\n",
              "3  1.912  1.828\n",
              "4  1.553  1.371"
            ]
          },
          "metadata": {},
          "execution_count": 79
        }
      ]
    },
    {
      "cell_type": "code",
      "metadata": {
        "colab": {
          "base_uri": "https://localhost:8080/"
        },
        "id": "CSf4cfYsqjr1",
        "outputId": "3d0100cf-fd54-4c47-d229-9dd147ba0bfa"
      },
      "source": [
        "df_soil.shape\n"
      ],
      "execution_count": 82,
      "outputs": [
        {
          "output_type": "execute_result",
          "data": {
            "text/plain": [
              "(35, 2)"
            ]
          },
          "metadata": {},
          "execution_count": 82
        }
      ]
    },
    {
      "cell_type": "code",
      "metadata": {
        "colab": {
          "base_uri": "https://localhost:8080/"
        },
        "id": "z04OMMH-qkKI",
        "outputId": "a7dbb356-3865-4b14-f2f3-6596cfd4444b"
      },
      "source": [
        "df_soil[\"Soil1\"].mean()\n"
      ],
      "execution_count": 83,
      "outputs": [
        {
          "output_type": "execute_result",
          "data": {
            "text/plain": [
              "1.6918"
            ]
          },
          "metadata": {},
          "execution_count": 83
        }
      ]
    },
    {
      "cell_type": "code",
      "metadata": {
        "colab": {
          "base_uri": "https://localhost:8080/"
        },
        "id": "b2-0I6VvqkXL",
        "outputId": "84eef973-b9de-454c-a402-300d6cda3122"
      },
      "source": [
        "df_soil[\"Soil2\"].mean()\n"
      ],
      "execution_count": 84,
      "outputs": [
        {
          "output_type": "execute_result",
          "data": {
            "text/plain": [
              "1.4171142857142858"
            ]
          },
          "metadata": {},
          "execution_count": 84
        }
      ]
    },
    {
      "cell_type": "code",
      "metadata": {
        "id": "c0X-PTurqkjk"
      },
      "source": [
        "# H0 : mu1 = mu2\n",
        "\n",
        "# H1 : mu1 != mu2"
      ],
      "execution_count": 85,
      "outputs": []
    },
    {
      "cell_type": "code",
      "metadata": {
        "colab": {
          "base_uri": "https://localhost:8080/"
        },
        "id": "5HbUcuYbqkvz",
        "outputId": "89b0c5ab-eaa5-4ceb-85b3-46e2e20da1d1"
      },
      "source": [
        "stats.ttest_ind(df_soil[\"Soil1\"], df_soil[\"Soil2\"])\n",
        "\n",
        "# Data has Nan values!"
      ],
      "execution_count": 86,
      "outputs": [
        {
          "output_type": "execute_result",
          "data": {
            "text/plain": [
              "Ttest_indResult(statistic=nan, pvalue=nan)"
            ]
          },
          "metadata": {},
          "execution_count": 86
        }
      ]
    },
    {
      "cell_type": "code",
      "metadata": {
        "colab": {
          "base_uri": "https://localhost:8080/"
        },
        "id": "FvLXW9Opqk6u",
        "outputId": "14963cf6-55e0-4dd8-abb5-9bd7e47fd3d6"
      },
      "source": [
        "df_soil.info()\n"
      ],
      "execution_count": 11,
      "outputs": [
        {
          "output_type": "stream",
          "name": "stdout",
          "text": [
            "<class 'pandas.core.frame.DataFrame'>\n",
            "RangeIndex: 35 entries, 0 to 34\n",
            "Data columns (total 2 columns):\n",
            " #   Column  Non-Null Count  Dtype  \n",
            "---  ------  --------------  -----  \n",
            " 0   Soil1   30 non-null     float64\n",
            " 1   Soil2   35 non-null     float64\n",
            "dtypes: float64(2)\n",
            "memory usage: 688.0 bytes\n"
          ]
        }
      ]
    },
    {
      "cell_type": "code",
      "metadata": {
        "colab": {
          "base_uri": "https://localhost:8080/",
          "height": 1000
        },
        "id": "Rfqol3RqqlFA",
        "outputId": "df0987da-c7c9-4504-d05b-8e42bdb89e6e"
      },
      "source": [
        "df_soil.isnull()\n"
      ],
      "execution_count": 88,
      "outputs": [
        {
          "output_type": "execute_result",
          "data": {
            "text/html": [
              "<div>\n",
              "<style scoped>\n",
              "    .dataframe tbody tr th:only-of-type {\n",
              "        vertical-align: middle;\n",
              "    }\n",
              "\n",
              "    .dataframe tbody tr th {\n",
              "        vertical-align: top;\n",
              "    }\n",
              "\n",
              "    .dataframe thead th {\n",
              "        text-align: right;\n",
              "    }\n",
              "</style>\n",
              "<table border=\"1\" class=\"dataframe\">\n",
              "  <thead>\n",
              "    <tr style=\"text-align: right;\">\n",
              "      <th></th>\n",
              "      <th>Soil1</th>\n",
              "      <th>Soil2</th>\n",
              "    </tr>\n",
              "  </thead>\n",
              "  <tbody>\n",
              "    <tr>\n",
              "      <th>0</th>\n",
              "      <td>False</td>\n",
              "      <td>False</td>\n",
              "    </tr>\n",
              "    <tr>\n",
              "      <th>1</th>\n",
              "      <td>False</td>\n",
              "      <td>False</td>\n",
              "    </tr>\n",
              "    <tr>\n",
              "      <th>2</th>\n",
              "      <td>False</td>\n",
              "      <td>False</td>\n",
              "    </tr>\n",
              "    <tr>\n",
              "      <th>3</th>\n",
              "      <td>False</td>\n",
              "      <td>False</td>\n",
              "    </tr>\n",
              "    <tr>\n",
              "      <th>4</th>\n",
              "      <td>False</td>\n",
              "      <td>False</td>\n",
              "    </tr>\n",
              "    <tr>\n",
              "      <th>5</th>\n",
              "      <td>False</td>\n",
              "      <td>False</td>\n",
              "    </tr>\n",
              "    <tr>\n",
              "      <th>6</th>\n",
              "      <td>False</td>\n",
              "      <td>False</td>\n",
              "    </tr>\n",
              "    <tr>\n",
              "      <th>7</th>\n",
              "      <td>False</td>\n",
              "      <td>False</td>\n",
              "    </tr>\n",
              "    <tr>\n",
              "      <th>8</th>\n",
              "      <td>False</td>\n",
              "      <td>False</td>\n",
              "    </tr>\n",
              "    <tr>\n",
              "      <th>9</th>\n",
              "      <td>False</td>\n",
              "      <td>False</td>\n",
              "    </tr>\n",
              "    <tr>\n",
              "      <th>10</th>\n",
              "      <td>False</td>\n",
              "      <td>False</td>\n",
              "    </tr>\n",
              "    <tr>\n",
              "      <th>11</th>\n",
              "      <td>False</td>\n",
              "      <td>False</td>\n",
              "    </tr>\n",
              "    <tr>\n",
              "      <th>12</th>\n",
              "      <td>False</td>\n",
              "      <td>False</td>\n",
              "    </tr>\n",
              "    <tr>\n",
              "      <th>13</th>\n",
              "      <td>False</td>\n",
              "      <td>False</td>\n",
              "    </tr>\n",
              "    <tr>\n",
              "      <th>14</th>\n",
              "      <td>False</td>\n",
              "      <td>False</td>\n",
              "    </tr>\n",
              "    <tr>\n",
              "      <th>15</th>\n",
              "      <td>False</td>\n",
              "      <td>False</td>\n",
              "    </tr>\n",
              "    <tr>\n",
              "      <th>16</th>\n",
              "      <td>False</td>\n",
              "      <td>False</td>\n",
              "    </tr>\n",
              "    <tr>\n",
              "      <th>17</th>\n",
              "      <td>False</td>\n",
              "      <td>False</td>\n",
              "    </tr>\n",
              "    <tr>\n",
              "      <th>18</th>\n",
              "      <td>False</td>\n",
              "      <td>False</td>\n",
              "    </tr>\n",
              "    <tr>\n",
              "      <th>19</th>\n",
              "      <td>False</td>\n",
              "      <td>False</td>\n",
              "    </tr>\n",
              "    <tr>\n",
              "      <th>20</th>\n",
              "      <td>False</td>\n",
              "      <td>False</td>\n",
              "    </tr>\n",
              "    <tr>\n",
              "      <th>21</th>\n",
              "      <td>False</td>\n",
              "      <td>False</td>\n",
              "    </tr>\n",
              "    <tr>\n",
              "      <th>22</th>\n",
              "      <td>False</td>\n",
              "      <td>False</td>\n",
              "    </tr>\n",
              "    <tr>\n",
              "      <th>23</th>\n",
              "      <td>False</td>\n",
              "      <td>False</td>\n",
              "    </tr>\n",
              "    <tr>\n",
              "      <th>24</th>\n",
              "      <td>False</td>\n",
              "      <td>False</td>\n",
              "    </tr>\n",
              "    <tr>\n",
              "      <th>25</th>\n",
              "      <td>False</td>\n",
              "      <td>False</td>\n",
              "    </tr>\n",
              "    <tr>\n",
              "      <th>26</th>\n",
              "      <td>False</td>\n",
              "      <td>False</td>\n",
              "    </tr>\n",
              "    <tr>\n",
              "      <th>27</th>\n",
              "      <td>False</td>\n",
              "      <td>False</td>\n",
              "    </tr>\n",
              "    <tr>\n",
              "      <th>28</th>\n",
              "      <td>False</td>\n",
              "      <td>False</td>\n",
              "    </tr>\n",
              "    <tr>\n",
              "      <th>29</th>\n",
              "      <td>False</td>\n",
              "      <td>False</td>\n",
              "    </tr>\n",
              "    <tr>\n",
              "      <th>30</th>\n",
              "      <td>True</td>\n",
              "      <td>False</td>\n",
              "    </tr>\n",
              "    <tr>\n",
              "      <th>31</th>\n",
              "      <td>True</td>\n",
              "      <td>False</td>\n",
              "    </tr>\n",
              "    <tr>\n",
              "      <th>32</th>\n",
              "      <td>True</td>\n",
              "      <td>False</td>\n",
              "    </tr>\n",
              "    <tr>\n",
              "      <th>33</th>\n",
              "      <td>True</td>\n",
              "      <td>False</td>\n",
              "    </tr>\n",
              "    <tr>\n",
              "      <th>34</th>\n",
              "      <td>True</td>\n",
              "      <td>False</td>\n",
              "    </tr>\n",
              "  </tbody>\n",
              "</table>\n",
              "</div>"
            ],
            "text/plain": [
              "    Soil1  Soil2\n",
              "0   False  False\n",
              "1   False  False\n",
              "2   False  False\n",
              "3   False  False\n",
              "4   False  False\n",
              "5   False  False\n",
              "6   False  False\n",
              "7   False  False\n",
              "8   False  False\n",
              "9   False  False\n",
              "10  False  False\n",
              "11  False  False\n",
              "12  False  False\n",
              "13  False  False\n",
              "14  False  False\n",
              "15  False  False\n",
              "16  False  False\n",
              "17  False  False\n",
              "18  False  False\n",
              "19  False  False\n",
              "20  False  False\n",
              "21  False  False\n",
              "22  False  False\n",
              "23  False  False\n",
              "24  False  False\n",
              "25  False  False\n",
              "26  False  False\n",
              "27  False  False\n",
              "28  False  False\n",
              "29  False  False\n",
              "30   True  False\n",
              "31   True  False\n",
              "32   True  False\n",
              "33   True  False\n",
              "34   True  False"
            ]
          },
          "metadata": {},
          "execution_count": 88
        }
      ]
    },
    {
      "cell_type": "code",
      "metadata": {
        "colab": {
          "base_uri": "https://localhost:8080/"
        },
        "id": "qxhw-0ZXqlPh",
        "outputId": "68144f01-253d-4135-aa8b-cd9cb29bcc6d"
      },
      "source": [
        "itest = stats.ttest_ind(df_soil[\"Soil1\"], df_soil[\"Soil2\"], nan_policy='omit')\n",
        "\n",
        "itest"
      ],
      "execution_count": 89,
      "outputs": [
        {
          "output_type": "execute_result",
          "data": {
            "text/plain": [
              "Ttest_indResult(statistic=5.1681473319343345, pvalue=2.5932287323528147e-06)"
            ]
          },
          "metadata": {},
          "execution_count": 89
        }
      ]
    },
    {
      "cell_type": "code",
      "metadata": {
        "colab": {
          "base_uri": "https://localhost:8080/"
        },
        "id": "M291it7iqlY2",
        "outputId": "eae1b19e-0121-4c38-aadb-fa9b4d737d0c"
      },
      "source": [
        "s = indTest.statistic\n",
        "s"
      ],
      "execution_count": 90,
      "outputs": [
        {
          "output_type": "execute_result",
          "data": {
            "text/plain": [
              "5.1681473319343345"
            ]
          },
          "metadata": {},
          "execution_count": 90
        }
      ]
    },
    {
      "cell_type": "code",
      "metadata": {
        "colab": {
          "base_uri": "https://localhost:8080/"
        },
        "id": "4YgvWF0ArBrW",
        "outputId": "6e09dccb-a31d-4bbf-ace3-4eaf6b42c19a"
      },
      "source": [
        "ppvalue = indTest.pvalue\n",
        "ppvalue"
      ],
      "execution_count": 91,
      "outputs": [
        {
          "output_type": "execute_result",
          "data": {
            "text/plain": [
              "2.5932287323528147e-06"
            ]
          },
          "metadata": {},
          "execution_count": 91
        }
      ]
    },
    {
      "cell_type": "code",
      "metadata": {
        "colab": {
          "base_uri": "https://localhost:8080/"
        },
        "id": "GBFecbKtrB11",
        "outputId": "798d9c2e-711d-49be-df0a-76d78db68b1f"
      },
      "source": [
        "alpha = 0.01      # alpha/2 = 0.005\n",
        "\n",
        "if indTest.pvalue < alpha/2:\n",
        "    print(\"reject the null\")\n",
        "else:\n",
        "    print(\"fail to reject\")"
      ],
      "execution_count": 92,
      "outputs": [
        {
          "output_type": "stream",
          "name": "stdout",
          "text": [
            "reject the null\n"
          ]
        }
      ]
    },
    {
      "cell_type": "code",
      "metadata": {
        "id": "tmWOxT1ZrB9g"
      },
      "source": [
        ""
      ],
      "execution_count": null,
      "outputs": []
    },
    {
      "cell_type": "code",
      "metadata": {
        "id": "iHeVwv7MrCC-"
      },
      "source": [
        "# EXERCISE 3"
      ],
      "execution_count": null,
      "outputs": []
    },
    {
      "cell_type": "code",
      "metadata": {
        "colab": {
          "base_uri": "https://localhost:8080/",
          "height": 204
        },
        "id": "JtfmLtURrCHO",
        "outputId": "4855bca0-86a8-433b-cdaa-dd6d816f8b83"
      },
      "source": [
        "# i)\n",
        "\n",
        "df_pisa = pd.read_csv(\"/content/2015 PISA Test - Sheet1.csv\")\n",
        "df_pisa.head()\n"
      ],
      "execution_count": 93,
      "outputs": [
        {
          "output_type": "execute_result",
          "data": {
            "text/html": [
              "<div>\n",
              "<style scoped>\n",
              "    .dataframe tbody tr th:only-of-type {\n",
              "        vertical-align: middle;\n",
              "    }\n",
              "\n",
              "    .dataframe tbody tr th {\n",
              "        vertical-align: top;\n",
              "    }\n",
              "\n",
              "    .dataframe thead th {\n",
              "        text-align: right;\n",
              "    }\n",
              "</style>\n",
              "<table border=\"1\" class=\"dataframe\">\n",
              "  <thead>\n",
              "    <tr style=\"text-align: right;\">\n",
              "      <th></th>\n",
              "      <th>Country Code</th>\n",
              "      <th>Continent_Code</th>\n",
              "      <th>internet_users_per_100</th>\n",
              "      <th>Math</th>\n",
              "      <th>Reading</th>\n",
              "      <th>Science</th>\n",
              "    </tr>\n",
              "  </thead>\n",
              "  <tbody>\n",
              "    <tr>\n",
              "      <th>0</th>\n",
              "      <td>ALB</td>\n",
              "      <td>EU</td>\n",
              "      <td>63.252933</td>\n",
              "      <td>413.1570</td>\n",
              "      <td>405.2588</td>\n",
              "      <td>427.2250</td>\n",
              "    </tr>\n",
              "    <tr>\n",
              "      <th>1</th>\n",
              "      <td>ARE</td>\n",
              "      <td>AS</td>\n",
              "      <td>90.500000</td>\n",
              "      <td>427.4827</td>\n",
              "      <td>433.5423</td>\n",
              "      <td>436.7311</td>\n",
              "    </tr>\n",
              "    <tr>\n",
              "      <th>2</th>\n",
              "      <td>ARG</td>\n",
              "      <td>SA</td>\n",
              "      <td>68.043064</td>\n",
              "      <td>409.0333</td>\n",
              "      <td>425.3031</td>\n",
              "      <td>432.2262</td>\n",
              "    </tr>\n",
              "    <tr>\n",
              "      <th>3</th>\n",
              "      <td>AUS</td>\n",
              "      <td>OC</td>\n",
              "      <td>84.560519</td>\n",
              "      <td>493.8962</td>\n",
              "      <td>502.9006</td>\n",
              "      <td>509.9939</td>\n",
              "    </tr>\n",
              "    <tr>\n",
              "      <th>4</th>\n",
              "      <td>AUT</td>\n",
              "      <td>EU</td>\n",
              "      <td>83.940142</td>\n",
              "      <td>496.7423</td>\n",
              "      <td>484.8656</td>\n",
              "      <td>495.0375</td>\n",
              "    </tr>\n",
              "  </tbody>\n",
              "</table>\n",
              "</div>"
            ],
            "text/plain": [
              "  Country Code Continent_Code  ...   Reading   Science\n",
              "0          ALB             EU  ...  405.2588  427.2250\n",
              "1          ARE             AS  ...  433.5423  436.7311\n",
              "2          ARG             SA  ...  425.3031  432.2262\n",
              "3          AUS             OC  ...  502.9006  509.9939\n",
              "4          AUT             EU  ...  484.8656  495.0375\n",
              "\n",
              "[5 rows x 6 columns]"
            ]
          },
          "metadata": {},
          "execution_count": 93
        }
      ]
    },
    {
      "cell_type": "code",
      "metadata": {
        "colab": {
          "base_uri": "https://localhost:8080/",
          "height": 297
        },
        "id": "ArVCOSsFrCMn",
        "outputId": "52a45ae8-0d5b-4639-b933-0c51f4881187"
      },
      "source": [
        "df_pisa.describe()  "
      ],
      "execution_count": 94,
      "outputs": [
        {
          "output_type": "execute_result",
          "data": {
            "text/html": [
              "<div>\n",
              "<style scoped>\n",
              "    .dataframe tbody tr th:only-of-type {\n",
              "        vertical-align: middle;\n",
              "    }\n",
              "\n",
              "    .dataframe tbody tr th {\n",
              "        vertical-align: top;\n",
              "    }\n",
              "\n",
              "    .dataframe thead th {\n",
              "        text-align: right;\n",
              "    }\n",
              "</style>\n",
              "<table border=\"1\" class=\"dataframe\">\n",
              "  <thead>\n",
              "    <tr style=\"text-align: right;\">\n",
              "      <th></th>\n",
              "      <th>internet_users_per_100</th>\n",
              "      <th>Math</th>\n",
              "      <th>Reading</th>\n",
              "      <th>Science</th>\n",
              "    </tr>\n",
              "  </thead>\n",
              "  <tbody>\n",
              "    <tr>\n",
              "      <th>count</th>\n",
              "      <td>70.000000</td>\n",
              "      <td>70.000000</td>\n",
              "      <td>70.000000</td>\n",
              "      <td>70.000000</td>\n",
              "    </tr>\n",
              "    <tr>\n",
              "      <th>mean</th>\n",
              "      <td>71.973099</td>\n",
              "      <td>460.971557</td>\n",
              "      <td>460.997291</td>\n",
              "      <td>465.439093</td>\n",
              "    </tr>\n",
              "    <tr>\n",
              "      <th>std</th>\n",
              "      <td>16.390632</td>\n",
              "      <td>53.327205</td>\n",
              "      <td>49.502679</td>\n",
              "      <td>48.397254</td>\n",
              "    </tr>\n",
              "    <tr>\n",
              "      <th>min</th>\n",
              "      <td>21.976068</td>\n",
              "      <td>327.702000</td>\n",
              "      <td>346.549000</td>\n",
              "      <td>331.638800</td>\n",
              "    </tr>\n",
              "    <tr>\n",
              "      <th>25%</th>\n",
              "      <td>60.899020</td>\n",
              "      <td>417.416075</td>\n",
              "      <td>426.948625</td>\n",
              "      <td>425.923375</td>\n",
              "    </tr>\n",
              "    <tr>\n",
              "      <th>50%</th>\n",
              "      <td>72.999350</td>\n",
              "      <td>477.607150</td>\n",
              "      <td>480.199850</td>\n",
              "      <td>475.400050</td>\n",
              "    </tr>\n",
              "    <tr>\n",
              "      <th>75%</th>\n",
              "      <td>85.026763</td>\n",
              "      <td>500.482925</td>\n",
              "      <td>499.687475</td>\n",
              "      <td>502.431250</td>\n",
              "    </tr>\n",
              "    <tr>\n",
              "      <th>max</th>\n",
              "      <td>98.200000</td>\n",
              "      <td>564.189700</td>\n",
              "      <td>535.100200</td>\n",
              "      <td>555.574700</td>\n",
              "    </tr>\n",
              "  </tbody>\n",
              "</table>\n",
              "</div>"
            ],
            "text/plain": [
              "       internet_users_per_100        Math     Reading     Science\n",
              "count               70.000000   70.000000   70.000000   70.000000\n",
              "mean                71.973099  460.971557  460.997291  465.439093\n",
              "std                 16.390632   53.327205   49.502679   48.397254\n",
              "min                 21.976068  327.702000  346.549000  331.638800\n",
              "25%                 60.899020  417.416075  426.948625  425.923375\n",
              "50%                 72.999350  477.607150  480.199850  475.400050\n",
              "75%                 85.026763  500.482925  499.687475  502.431250\n",
              "max                 98.200000  564.189700  535.100200  555.574700"
            ]
          },
          "metadata": {},
          "execution_count": 94
        }
      ]
    },
    {
      "cell_type": "code",
      "metadata": {
        "colab": {
          "base_uri": "https://localhost:8080/"
        },
        "id": "zLIdYhSVrCZS",
        "outputId": "97ce35c3-46de-4a70-c6c8-bcf721c637dc"
      },
      "source": [
        "df_pisa.shape"
      ],
      "execution_count": 20,
      "outputs": [
        {
          "output_type": "execute_result",
          "data": {
            "text/plain": [
              "(70, 6)"
            ]
          },
          "metadata": {},
          "execution_count": 20
        }
      ]
    },
    {
      "cell_type": "code",
      "metadata": {
        "colab": {
          "base_uri": "https://localhost:8080/"
        },
        "id": "AXHDcgVvrCnt",
        "outputId": "553b9e39-a819-4e28-f475-c7116a41a840"
      },
      "source": [
        "# unique values \n",
        "\n",
        "df_pisa.Continent_Code.unique()"
      ],
      "execution_count": 95,
      "outputs": [
        {
          "output_type": "execute_result",
          "data": {
            "text/plain": [
              "array(['EU', 'AS', 'SA', 'OC', nan, 'AF'], dtype=object)"
            ]
          },
          "metadata": {},
          "execution_count": 95
        }
      ]
    },
    {
      "cell_type": "code",
      "metadata": {
        "id": "8zlo64Surrc8"
      },
      "source": [
        "df_pisa['Continent_Code'].fillna(value='NA', inplace = True)"
      ],
      "execution_count": 96,
      "outputs": []
    },
    {
      "cell_type": "code",
      "metadata": {
        "colab": {
          "base_uri": "https://localhost:8080/"
        },
        "id": "MbwtcPp2rroY",
        "outputId": "15d66dc3-a1ea-43a4-ff7a-bd250b27849a"
      },
      "source": [
        "df_pisa.Continent_Code.unique()"
      ],
      "execution_count": 97,
      "outputs": [
        {
          "output_type": "execute_result",
          "data": {
            "text/plain": [
              "array(['EU', 'AS', 'SA', 'OC', 'NA', 'AF'], dtype=object)"
            ]
          },
          "metadata": {},
          "execution_count": 97
        }
      ]
    },
    {
      "cell_type": "code",
      "metadata": {
        "colab": {
          "base_uri": "https://localhost:8080/",
          "height": 388
        },
        "id": "sKw1PTawrqMF",
        "outputId": "465b66d1-4d6e-45e5-ac42-1cec0c07dc5d"
      },
      "source": [
        "fig, axes = plt.subplots(2,2, figsize=(24,6))\n",
        "\n",
        "sns.histplot(df_pisa['internet_users_per_100'], kde=True, ax=axes[0,0])\n",
        "sns.histplot(df_pisa['Math'], kde=True, ax=axes[0,1])\n",
        "sns.histplot(df_pisa['Reading'], kde=True, ax=axes[1,0])\n",
        "sns.histplot(df_pisa['Science'], kde=True, ax=axes[1,1]);"
      ],
      "execution_count": 98,
      "outputs": [
        {
          "output_type": "display_data",
          "data": {
            "image/png": "[encoded data removed]",
            "text/plain": [
              "<Figure size 1728x432 with 4 Axes>"
            ]
          },
          "metadata": {
            "needs_background": "light"
          }
        }
      ]
    },
    {
      "cell_type": "code",
      "metadata": {
        "id": "zOwgZT3XrqVp"
      },
      "source": [
        ""
      ],
      "execution_count": null,
      "outputs": []
    },
    {
      "cell_type": "code",
      "metadata": {
        "colab": {
          "base_uri": "https://localhost:8080/",
          "height": 726
        },
        "id": "OXo_k2nzrqfY",
        "outputId": "1a3c4c46-788e-4609-e2b2-03cbcd2e9ff7"
      },
      "source": [
        "sns.pairplot(df_pisa, hue = 'Continent_Code', corner = True);"
      ],
      "execution_count": 99,
      "outputs": [
        {
          "output_type": "display_data",
          "data": {
            "image/png": "[encoded data removed]",
            "text/plain": [
              "<Figure size 807.125x720 with 14 Axes>"
            ]
          },
          "metadata": {
            "needs_background": "light"
          }
        }
      ]
    },
    {
      "cell_type": "code",
      "metadata": {
        "id": "neWx_NNur1iF"
      },
      "source": [
        ""
      ],
      "execution_count": null,
      "outputs": []
    },
    {
      "cell_type": "code",
      "metadata": {
        "colab": {
          "base_uri": "https://localhost:8080/",
          "height": 204
        },
        "id": "1rwS61sNr1oj",
        "outputId": "6b99b970-97de-49c8-f25e-b276948cdec2"
      },
      "source": [
        "# for EU\n",
        "\n",
        "df_EU = df_pisa[df_pisa[\"Continent_Code\"]==\"EU\"]\n",
        "df_EU.head()"
      ],
      "execution_count": 100,
      "outputs": [
        {
          "output_type": "execute_result",
          "data": {
            "text/html": [
              "<div>\n",
              "<style scoped>\n",
              "    .dataframe tbody tr th:only-of-type {\n",
              "        vertical-align: middle;\n",
              "    }\n",
              "\n",
              "    .dataframe tbody tr th {\n",
              "        vertical-align: top;\n",
              "    }\n",
              "\n",
              "    .dataframe thead th {\n",
              "        text-align: right;\n",
              "    }\n",
              "</style>\n",
              "<table border=\"1\" class=\"dataframe\">\n",
              "  <thead>\n",
              "    <tr style=\"text-align: right;\">\n",
              "      <th></th>\n",
              "      <th>Country Code</th>\n",
              "      <th>Continent_Code</th>\n",
              "      <th>internet_users_per_100</th>\n",
              "      <th>Math</th>\n",
              "      <th>Reading</th>\n",
              "      <th>Science</th>\n",
              "    </tr>\n",
              "  </thead>\n",
              "  <tbody>\n",
              "    <tr>\n",
              "      <th>0</th>\n",
              "      <td>ALB</td>\n",
              "      <td>EU</td>\n",
              "      <td>63.252933</td>\n",
              "      <td>413.1570</td>\n",
              "      <td>405.2588</td>\n",
              "      <td>427.2250</td>\n",
              "    </tr>\n",
              "    <tr>\n",
              "      <th>4</th>\n",
              "      <td>AUT</td>\n",
              "      <td>EU</td>\n",
              "      <td>83.940142</td>\n",
              "      <td>496.7423</td>\n",
              "      <td>484.8656</td>\n",
              "      <td>495.0375</td>\n",
              "    </tr>\n",
              "    <tr>\n",
              "      <th>5</th>\n",
              "      <td>BEL</td>\n",
              "      <td>EU</td>\n",
              "      <td>85.052900</td>\n",
              "      <td>506.9844</td>\n",
              "      <td>498.5242</td>\n",
              "      <td>501.9997</td>\n",
              "    </tr>\n",
              "    <tr>\n",
              "      <th>6</th>\n",
              "      <td>BGR</td>\n",
              "      <td>EU</td>\n",
              "      <td>56.656300</td>\n",
              "      <td>441.1899</td>\n",
              "      <td>431.7175</td>\n",
              "      <td>445.7720</td>\n",
              "    </tr>\n",
              "    <tr>\n",
              "      <th>9</th>\n",
              "      <td>CHE</td>\n",
              "      <td>EU</td>\n",
              "      <td>87.479056</td>\n",
              "      <td>521.2506</td>\n",
              "      <td>492.1982</td>\n",
              "      <td>505.5058</td>\n",
              "    </tr>\n",
              "  </tbody>\n",
              "</table>\n",
              "</div>"
            ],
            "text/plain": [
              "  Country Code Continent_Code  ...   Reading   Science\n",
              "0          ALB             EU  ...  405.2588  427.2250\n",
              "4          AUT             EU  ...  484.8656  495.0375\n",
              "5          BEL             EU  ...  498.5242  501.9997\n",
              "6          BGR             EU  ...  431.7175  445.7720\n",
              "9          CHE             EU  ...  492.1982  505.5058\n",
              "\n",
              "[5 rows x 6 columns]"
            ]
          },
          "metadata": {},
          "execution_count": 100
        }
      ]
    },
    {
      "cell_type": "code",
      "metadata": {
        "colab": {
          "base_uri": "https://localhost:8080/",
          "height": 297
        },
        "id": "QeB3xs9zr17J",
        "outputId": "fb9d63e7-cdd4-429f-ecab-67b9813a8976"
      },
      "source": [
        "df_EU.describe()"
      ],
      "execution_count": 101,
      "outputs": [
        {
          "output_type": "execute_result",
          "data": {
            "text/html": [
              "<div>\n",
              "<style scoped>\n",
              "    .dataframe tbody tr th:only-of-type {\n",
              "        vertical-align: middle;\n",
              "    }\n",
              "\n",
              "    .dataframe tbody tr th {\n",
              "        vertical-align: top;\n",
              "    }\n",
              "\n",
              "    .dataframe thead th {\n",
              "        text-align: right;\n",
              "    }\n",
              "</style>\n",
              "<table border=\"1\" class=\"dataframe\">\n",
              "  <thead>\n",
              "    <tr style=\"text-align: right;\">\n",
              "      <th></th>\n",
              "      <th>internet_users_per_100</th>\n",
              "      <th>Math</th>\n",
              "      <th>Reading</th>\n",
              "      <th>Science</th>\n",
              "    </tr>\n",
              "  </thead>\n",
              "  <tbody>\n",
              "    <tr>\n",
              "      <th>count</th>\n",
              "      <td>37.000000</td>\n",
              "      <td>37.000000</td>\n",
              "      <td>37.000000</td>\n",
              "      <td>37.000000</td>\n",
              "    </tr>\n",
              "    <tr>\n",
              "      <th>mean</th>\n",
              "      <td>77.274888</td>\n",
              "      <td>477.981449</td>\n",
              "      <td>476.164608</td>\n",
              "      <td>478.299381</td>\n",
              "    </tr>\n",
              "    <tr>\n",
              "      <th>std</th>\n",
              "      <td>12.425773</td>\n",
              "      <td>35.150403</td>\n",
              "      <td>37.720545</td>\n",
              "      <td>34.450616</td>\n",
              "    </tr>\n",
              "    <tr>\n",
              "      <th>min</th>\n",
              "      <td>53.744979</td>\n",
              "      <td>371.311400</td>\n",
              "      <td>351.741500</td>\n",
              "      <td>383.682400</td>\n",
              "    </tr>\n",
              "    <tr>\n",
              "      <th>25%</th>\n",
              "      <td>68.632900</td>\n",
              "      <td>464.040100</td>\n",
              "      <td>452.514300</td>\n",
              "      <td>460.774900</td>\n",
              "    </tr>\n",
              "    <tr>\n",
              "      <th>50%</th>\n",
              "      <td>76.184000</td>\n",
              "      <td>489.728700</td>\n",
              "      <td>487.250100</td>\n",
              "      <td>490.225000</td>\n",
              "    </tr>\n",
              "    <tr>\n",
              "      <th>75%</th>\n",
              "      <td>87.479056</td>\n",
              "      <td>503.722000</td>\n",
              "      <td>499.814600</td>\n",
              "      <td>501.936900</td>\n",
              "    </tr>\n",
              "    <tr>\n",
              "      <th>max</th>\n",
              "      <td>98.200000</td>\n",
              "      <td>521.250600</td>\n",
              "      <td>526.424700</td>\n",
              "      <td>534.193700</td>\n",
              "    </tr>\n",
              "  </tbody>\n",
              "</table>\n",
              "</div>"
            ],
            "text/plain": [
              "       internet_users_per_100        Math     Reading     Science\n",
              "count               37.000000   37.000000   37.000000   37.000000\n",
              "mean                77.274888  477.981449  476.164608  478.299381\n",
              "std                 12.425773   35.150403   37.720545   34.450616\n",
              "min                 53.744979  371.311400  351.741500  383.682400\n",
              "25%                 68.632900  464.040100  452.514300  460.774900\n",
              "50%                 76.184000  489.728700  487.250100  490.225000\n",
              "75%                 87.479056  503.722000  499.814600  501.936900\n",
              "max                 98.200000  521.250600  526.424700  534.193700"
            ]
          },
          "metadata": {},
          "execution_count": 101
        }
      ]
    },
    {
      "cell_type": "code",
      "metadata": {
        "colab": {
          "base_uri": "https://localhost:8080/"
        },
        "id": "Ny6DM1qur2G1",
        "outputId": "42f4698b-37dc-4ce9-9100-68ca9a861731"
      },
      "source": [
        "df_EU.shape"
      ],
      "execution_count": 102,
      "outputs": [
        {
          "output_type": "execute_result",
          "data": {
            "text/plain": [
              "(37, 6)"
            ]
          },
          "metadata": {},
          "execution_count": 102
        }
      ]
    },
    {
      "cell_type": "code",
      "metadata": {
        "colab": {
          "base_uri": "https://localhost:8080/"
        },
        "id": "uXGRF13Yr2QA",
        "outputId": "f28c6a58-a542-4bed-aa8e-a7083c2fc78c"
      },
      "source": [
        "df_EU.var()"
      ],
      "execution_count": 103,
      "outputs": [
        {
          "output_type": "execute_result",
          "data": {
            "text/plain": [
              "internet_users_per_100     154.399841\n",
              "Math                      1235.550805\n",
              "Reading                   1422.839540\n",
              "Science                   1186.844969\n",
              "dtype: float64"
            ]
          },
          "metadata": {},
          "execution_count": 103
        }
      ]
    },
    {
      "cell_type": "code",
      "metadata": {
        "colab": {
          "base_uri": "https://localhost:8080/",
          "height": 375
        },
        "id": "nXiNGxpLr2ZT",
        "outputId": "d773f047-c21e-4686-f251-457f11f0b956"
      },
      "source": [
        "fig = plt.subplots(figsize=(12, 6))\n",
        "\n",
        "sns.boxplot(data=df_EU);"
      ],
      "execution_count": 104,
      "outputs": [
        {
          "output_type": "display_data",
          "data": {
            "image/png": "[encoded data removed]",
            "text/plain": [
              "<Figure size 864x432 with 1 Axes>"
            ]
          },
          "metadata": {
            "needs_background": "light"
          }
        }
      ]
    },
    {
      "cell_type": "code",
      "metadata": {
        "colab": {
          "base_uri": "https://localhost:8080/",
          "height": 932
        },
        "id": "h8YMBqYzr2fG",
        "outputId": "e2d49101-99ab-46e7-ba18-a4e90556ef36"
      },
      "source": [
        "fig, axs = plt.subplots(2, 2, figsize=(16, 16))\n",
        "\n",
        "sns.histplot(data=df_EU, x=\"internet_users_per_100\", kde=True, color=\"red\", ax=axs[0, 0])\n",
        "sns.histplot(data=df_EU, x=\"Math\", kde=True, color=\"blue\", ax=axs[0, 1])\n",
        "sns.histplot(data=df_EU, x=\"Reading\", kde=True, color=\"green\", ax=axs[1, 0])\n",
        "sns.histplot(data=df_EU, x=\"Science\", kde=True, color=\"yellow\", ax=axs[1, 1]);"
      ],
      "execution_count": 105,
      "outputs": [
        {
          "output_type": "display_data",
          "data": {
            "image/png": "[encoded data removed]",
            "text/plain": [
              "<Figure size 1152x1152 with 4 Axes>"
            ]
          },
          "metadata": {
            "needs_background": "light"
          }
        }
      ]
    },
    {
      "cell_type": "code",
      "metadata": {
        "id": "L7OcnwAIsPIt"
      },
      "source": [
        ""
      ],
      "execution_count": null,
      "outputs": []
    },
    {
      "cell_type": "code",
      "metadata": {
        "colab": {
          "base_uri": "https://localhost:8080/",
          "height": 204
        },
        "id": "mQKiooYCsPAj",
        "outputId": "15edf227-c195-48c8-e681-49281479a0a0"
      },
      "source": [
        "# for AS\n",
        "\n",
        "df_AS = df_pisa[df_pisa[\"Continent_Code\"]==\"AS\"]\n",
        "df_AS.head()"
      ],
      "execution_count": 107,
      "outputs": [
        {
          "output_type": "execute_result",
          "data": {
            "text/html": [
              "<div>\n",
              "<style scoped>\n",
              "    .dataframe tbody tr th:only-of-type {\n",
              "        vertical-align: middle;\n",
              "    }\n",
              "\n",
              "    .dataframe tbody tr th {\n",
              "        vertical-align: top;\n",
              "    }\n",
              "\n",
              "    .dataframe thead th {\n",
              "        text-align: right;\n",
              "    }\n",
              "</style>\n",
              "<table border=\"1\" class=\"dataframe\">\n",
              "  <thead>\n",
              "    <tr style=\"text-align: right;\">\n",
              "      <th></th>\n",
              "      <th>Country Code</th>\n",
              "      <th>Continent_Code</th>\n",
              "      <th>internet_users_per_100</th>\n",
              "      <th>Math</th>\n",
              "      <th>Reading</th>\n",
              "      <th>Science</th>\n",
              "    </tr>\n",
              "  </thead>\n",
              "  <tbody>\n",
              "    <tr>\n",
              "      <th>1</th>\n",
              "      <td>ARE</td>\n",
              "      <td>AS</td>\n",
              "      <td>90.500000</td>\n",
              "      <td>427.4827</td>\n",
              "      <td>433.5423</td>\n",
              "      <td>436.7311</td>\n",
              "    </tr>\n",
              "    <tr>\n",
              "      <th>11</th>\n",
              "      <td>CHN</td>\n",
              "      <td>AS</td>\n",
              "      <td>50.300000</td>\n",
              "      <td>531.2961</td>\n",
              "      <td>493.9412</td>\n",
              "      <td>517.7793</td>\n",
              "    </tr>\n",
              "    <tr>\n",
              "      <th>25</th>\n",
              "      <td>GEO</td>\n",
              "      <td>AS</td>\n",
              "      <td>47.569760</td>\n",
              "      <td>403.8332</td>\n",
              "      <td>401.2881</td>\n",
              "      <td>411.1315</td>\n",
              "    </tr>\n",
              "    <tr>\n",
              "      <th>27</th>\n",
              "      <td>HKG</td>\n",
              "      <td>AS</td>\n",
              "      <td>84.948353</td>\n",
              "      <td>547.9310</td>\n",
              "      <td>526.6753</td>\n",
              "      <td>523.2774</td>\n",
              "    </tr>\n",
              "    <tr>\n",
              "      <th>30</th>\n",
              "      <td>IDN</td>\n",
              "      <td>AS</td>\n",
              "      <td>21.976068</td>\n",
              "      <td>386.1096</td>\n",
              "      <td>397.2595</td>\n",
              "      <td>403.0997</td>\n",
              "    </tr>\n",
              "  </tbody>\n",
              "</table>\n",
              "</div>"
            ],
            "text/plain": [
              "   Country Code Continent_Code  ...   Reading   Science\n",
              "1           ARE             AS  ...  433.5423  436.7311\n",
              "11          CHN             AS  ...  493.9412  517.7793\n",
              "25          GEO             AS  ...  401.2881  411.1315\n",
              "27          HKG             AS  ...  526.6753  523.2774\n",
              "30          IDN             AS  ...  397.2595  403.0997\n",
              "\n",
              "[5 rows x 6 columns]"
            ]
          },
          "metadata": {},
          "execution_count": 107
        }
      ]
    },
    {
      "cell_type": "code",
      "metadata": {
        "colab": {
          "base_uri": "https://localhost:8080/",
          "height": 297
        },
        "id": "c2J_jGpysO3z",
        "outputId": "f870e6ec-28d8-4af7-832a-f665b59f12f5"
      },
      "source": [
        "df_AS.describe()\n"
      ],
      "execution_count": 108,
      "outputs": [
        {
          "output_type": "execute_result",
          "data": {
            "text/html": [
              "<div>\n",
              "<style scoped>\n",
              "    .dataframe tbody tr th:only-of-type {\n",
              "        vertical-align: middle;\n",
              "    }\n",
              "\n",
              "    .dataframe tbody tr th {\n",
              "        vertical-align: top;\n",
              "    }\n",
              "\n",
              "    .dataframe thead th {\n",
              "        text-align: right;\n",
              "    }\n",
              "</style>\n",
              "<table border=\"1\" class=\"dataframe\">\n",
              "  <thead>\n",
              "    <tr style=\"text-align: right;\">\n",
              "      <th></th>\n",
              "      <th>internet_users_per_100</th>\n",
              "      <th>Math</th>\n",
              "      <th>Reading</th>\n",
              "      <th>Science</th>\n",
              "    </tr>\n",
              "  </thead>\n",
              "  <tbody>\n",
              "    <tr>\n",
              "      <th>count</th>\n",
              "      <td>17.000000</td>\n",
              "      <td>17.000000</td>\n",
              "      <td>17.000000</td>\n",
              "      <td>17.000000</td>\n",
              "    </tr>\n",
              "    <tr>\n",
              "      <th>mean</th>\n",
              "      <td>68.455613</td>\n",
              "      <td>466.216647</td>\n",
              "      <td>454.059682</td>\n",
              "      <td>467.945847</td>\n",
              "    </tr>\n",
              "    <tr>\n",
              "      <th>std</th>\n",
              "      <td>21.086060</td>\n",
              "      <td>64.356490</td>\n",
              "      <td>57.048962</td>\n",
              "      <td>56.671371</td>\n",
              "    </tr>\n",
              "    <tr>\n",
              "      <th>min</th>\n",
              "      <td>21.976068</td>\n",
              "      <td>380.259000</td>\n",
              "      <td>346.549000</td>\n",
              "      <td>386.485400</td>\n",
              "    </tr>\n",
              "    <tr>\n",
              "      <th>25%</th>\n",
              "      <td>50.300000</td>\n",
              "      <td>403.833200</td>\n",
              "      <td>408.102200</td>\n",
              "      <td>417.611200</td>\n",
              "    </tr>\n",
              "    <tr>\n",
              "      <th>50%</th>\n",
              "      <td>74.000000</td>\n",
              "      <td>459.816000</td>\n",
              "      <td>433.542300</td>\n",
              "      <td>456.483600</td>\n",
              "    </tr>\n",
              "    <tr>\n",
              "      <th>75%</th>\n",
              "      <td>84.948353</td>\n",
              "      <td>531.296100</td>\n",
              "      <td>508.690500</td>\n",
              "      <td>523.277400</td>\n",
              "    </tr>\n",
              "    <tr>\n",
              "      <th>max</th>\n",
              "      <td>92.884826</td>\n",
              "      <td>564.189700</td>\n",
              "      <td>535.100200</td>\n",
              "      <td>555.574700</td>\n",
              "    </tr>\n",
              "  </tbody>\n",
              "</table>\n",
              "</div>"
            ],
            "text/plain": [
              "       internet_users_per_100        Math     Reading     Science\n",
              "count               17.000000   17.000000   17.000000   17.000000\n",
              "mean                68.455613  466.216647  454.059682  467.945847\n",
              "std                 21.086060   64.356490   57.048962   56.671371\n",
              "min                 21.976068  380.259000  346.549000  386.485400\n",
              "25%                 50.300000  403.833200  408.102200  417.611200\n",
              "50%                 74.000000  459.816000  433.542300  456.483600\n",
              "75%                 84.948353  531.296100  508.690500  523.277400\n",
              "max                 92.884826  564.189700  535.100200  555.574700"
            ]
          },
          "metadata": {},
          "execution_count": 108
        }
      ]
    },
    {
      "cell_type": "code",
      "metadata": {
        "colab": {
          "base_uri": "https://localhost:8080/"
        },
        "id": "5Bd9z0CcsOtN",
        "outputId": "16dbdad1-a67d-424e-f3a3-20d36a1dff2c"
      },
      "source": [
        "df_AS.shape\n"
      ],
      "execution_count": 109,
      "outputs": [
        {
          "output_type": "execute_result",
          "data": {
            "text/plain": [
              "(17, 6)"
            ]
          },
          "metadata": {},
          "execution_count": 109
        }
      ]
    },
    {
      "cell_type": "code",
      "metadata": {
        "colab": {
          "base_uri": "https://localhost:8080/"
        },
        "id": "FtakEX2esOZb",
        "outputId": "931dc12f-ecac-435b-b7c5-1d3eb9e5eea4"
      },
      "source": [
        "df_AS.var()"
      ],
      "execution_count": 110,
      "outputs": [
        {
          "output_type": "execute_result",
          "data": {
            "text/plain": [
              "internet_users_per_100     444.621918\n",
              "Math                      4141.757822\n",
              "Reading                   3254.584049\n",
              "Science                   3211.644321\n",
              "dtype: float64"
            ]
          },
          "metadata": {},
          "execution_count": 110
        }
      ]
    },
    {
      "cell_type": "code",
      "metadata": {
        "colab": {
          "base_uri": "https://localhost:8080/",
          "height": 375
        },
        "id": "VAsBLf7usOGa",
        "outputId": "a55381bf-d385-4f1e-e6d2-0ac78c17d47f"
      },
      "source": [
        "fig = plt.subplots(figsize=(12, 6))\n",
        "\n",
        "sns.boxplot(data=df_AS);"
      ],
      "execution_count": 111,
      "outputs": [
        {
          "output_type": "display_data",
          "data": {
            "image/png": "[encoded data removed]",
            "text/plain": [
              "<Figure size 864x432 with 1 Axes>"
            ]
          },
          "metadata": {
            "needs_background": "light"
          }
        }
      ]
    },
    {
      "cell_type": "code",
      "metadata": {
        "colab": {
          "base_uri": "https://localhost:8080/",
          "height": 932
        },
        "id": "m5mRJ6Q5sm-k",
        "outputId": "30fa539f-06bb-45d6-8e7b-e6ef91f3b706"
      },
      "source": [
        "fig, axs = plt.subplots(2, 2, figsize=(16, 16))\n",
        "\n",
        "sns.histplot(data=df_AS, x=\"internet_users_per_100\", kde=True, color=\"red\", ax=axs[0, 0])\n",
        "sns.histplot(data=df_AS, x=\"Math\", kde=True, color=\"blue\", ax=axs[0, 1])\n",
        "sns.histplot(data=df_AS, x=\"Reading\", kde=True, color=\"green\", ax=axs[1, 0])\n",
        "sns.histplot(data=df_AS, x=\"Science\", kde=True, color=\"yellow\", ax=axs[1, 1]);"
      ],
      "execution_count": 112,
      "outputs": [
        {
          "output_type": "display_data",
          "data": {
            "image/png": "[encoded data removed]",
            "text/plain": [
              "<Figure size 1152x1152 with 4 Axes>"
            ]
          },
          "metadata": {
            "needs_background": "light"
          }
        }
      ]
    },
    {
      "cell_type": "code",
      "metadata": {
        "id": "snWePKnasnNH"
      },
      "source": [
        ""
      ],
      "execution_count": null,
      "outputs": []
    },
    {
      "cell_type": "code",
      "metadata": {
        "colab": {
          "base_uri": "https://localhost:8080/",
          "height": 204
        },
        "id": "6UCApWqUsnVJ",
        "outputId": "b99a11cd-a58b-4dc5-db6b-b4c619c431b3"
      },
      "source": [
        "# for SA\n",
        "\n",
        "df_SA = df_pisa[df_pisa[\"Continent_Code\"]==\"SA\"]\n",
        "df_SA.head()"
      ],
      "execution_count": 113,
      "outputs": [
        {
          "output_type": "execute_result",
          "data": {
            "text/html": [
              "<div>\n",
              "<style scoped>\n",
              "    .dataframe tbody tr th:only-of-type {\n",
              "        vertical-align: middle;\n",
              "    }\n",
              "\n",
              "    .dataframe tbody tr th {\n",
              "        vertical-align: top;\n",
              "    }\n",
              "\n",
              "    .dataframe thead th {\n",
              "        text-align: right;\n",
              "    }\n",
              "</style>\n",
              "<table border=\"1\" class=\"dataframe\">\n",
              "  <thead>\n",
              "    <tr style=\"text-align: right;\">\n",
              "      <th></th>\n",
              "      <th>Country Code</th>\n",
              "      <th>Continent_Code</th>\n",
              "      <th>internet_users_per_100</th>\n",
              "      <th>Math</th>\n",
              "      <th>Reading</th>\n",
              "      <th>Science</th>\n",
              "    </tr>\n",
              "  </thead>\n",
              "  <tbody>\n",
              "    <tr>\n",
              "      <th>2</th>\n",
              "      <td>ARG</td>\n",
              "      <td>SA</td>\n",
              "      <td>68.043064</td>\n",
              "      <td>409.0333</td>\n",
              "      <td>425.3031</td>\n",
              "      <td>432.2262</td>\n",
              "    </tr>\n",
              "    <tr>\n",
              "      <th>7</th>\n",
              "      <td>BRA</td>\n",
              "      <td>SA</td>\n",
              "      <td>58.327952</td>\n",
              "      <td>377.0695</td>\n",
              "      <td>407.3486</td>\n",
              "      <td>400.6821</td>\n",
              "    </tr>\n",
              "    <tr>\n",
              "      <th>10</th>\n",
              "      <td>CHL</td>\n",
              "      <td>SA</td>\n",
              "      <td>64.289000</td>\n",
              "      <td>422.6714</td>\n",
              "      <td>458.5709</td>\n",
              "      <td>446.9561</td>\n",
              "    </tr>\n",
              "    <tr>\n",
              "      <th>12</th>\n",
              "      <td>COL</td>\n",
              "      <td>SA</td>\n",
              "      <td>55.904973</td>\n",
              "      <td>389.6438</td>\n",
              "      <td>424.9052</td>\n",
              "      <td>415.7288</td>\n",
              "    </tr>\n",
              "    <tr>\n",
              "      <th>53</th>\n",
              "      <td>PER</td>\n",
              "      <td>SA</td>\n",
              "      <td>40.900000</td>\n",
              "      <td>386.5606</td>\n",
              "      <td>397.5414</td>\n",
              "      <td>396.6836</td>\n",
              "    </tr>\n",
              "  </tbody>\n",
              "</table>\n",
              "</div>"
            ],
            "text/plain": [
              "   Country Code Continent_Code  ...   Reading   Science\n",
              "2           ARG             SA  ...  425.3031  432.2262\n",
              "7           BRA             SA  ...  407.3486  400.6821\n",
              "10          CHL             SA  ...  458.5709  446.9561\n",
              "12          COL             SA  ...  424.9052  415.7288\n",
              "53          PER             SA  ...  397.5414  396.6836\n",
              "\n",
              "[5 rows x 6 columns]"
            ]
          },
          "metadata": {},
          "execution_count": 113
        }
      ]
    },
    {
      "cell_type": "code",
      "metadata": {
        "colab": {
          "base_uri": "https://localhost:8080/",
          "height": 297
        },
        "id": "jTkxntlLsngB",
        "outputId": "22feb0d8-915c-4985-8a1c-86ec92a4544f"
      },
      "source": [
        "df_SA.describe()"
      ],
      "execution_count": 114,
      "outputs": [
        {
          "output_type": "execute_result",
          "data": {
            "text/html": [
              "<div>\n",
              "<style scoped>\n",
              "    .dataframe tbody tr th:only-of-type {\n",
              "        vertical-align: middle;\n",
              "    }\n",
              "\n",
              "    .dataframe tbody tr th {\n",
              "        vertical-align: top;\n",
              "    }\n",
              "\n",
              "    .dataframe thead th {\n",
              "        text-align: right;\n",
              "    }\n",
              "</style>\n",
              "<table border=\"1\" class=\"dataframe\">\n",
              "  <thead>\n",
              "    <tr style=\"text-align: right;\">\n",
              "      <th></th>\n",
              "      <th>internet_users_per_100</th>\n",
              "      <th>Math</th>\n",
              "      <th>Reading</th>\n",
              "      <th>Science</th>\n",
              "    </tr>\n",
              "  </thead>\n",
              "  <tbody>\n",
              "    <tr>\n",
              "      <th>count</th>\n",
              "      <td>7.000000</td>\n",
              "      <td>7.000000</td>\n",
              "      <td>7.000000</td>\n",
              "      <td>7.000000</td>\n",
              "    </tr>\n",
              "    <tr>\n",
              "      <th>mean</th>\n",
              "      <td>60.180494</td>\n",
              "      <td>402.887700</td>\n",
              "      <td>425.359229</td>\n",
              "      <td>421.747186</td>\n",
              "    </tr>\n",
              "    <tr>\n",
              "      <th>std</th>\n",
              "      <td>9.772455</td>\n",
              "      <td>18.128894</td>\n",
              "      <td>19.709688</td>\n",
              "      <td>18.470319</td>\n",
              "    </tr>\n",
              "    <tr>\n",
              "      <th>min</th>\n",
              "      <td>40.900000</td>\n",
              "      <td>377.069500</td>\n",
              "      <td>397.541400</td>\n",
              "      <td>396.683600</td>\n",
              "    </tr>\n",
              "    <tr>\n",
              "      <th>25%</th>\n",
              "      <td>57.116462</td>\n",
              "      <td>388.102200</td>\n",
              "      <td>416.126900</td>\n",
              "      <td>408.205450</td>\n",
              "    </tr>\n",
              "    <tr>\n",
              "      <th>50%</th>\n",
              "      <td>64.289000</td>\n",
              "      <td>409.033300</td>\n",
              "      <td>425.303100</td>\n",
              "      <td>424.590500</td>\n",
              "    </tr>\n",
              "    <tr>\n",
              "      <th>75%</th>\n",
              "      <td>66.321532</td>\n",
              "      <td>417.617650</td>\n",
              "      <td>431.922700</td>\n",
              "      <td>433.794600</td>\n",
              "    </tr>\n",
              "    <tr>\n",
              "      <th>max</th>\n",
              "      <td>69.198471</td>\n",
              "      <td>422.671400</td>\n",
              "      <td>458.570900</td>\n",
              "      <td>446.956100</td>\n",
              "    </tr>\n",
              "  </tbody>\n",
              "</table>\n",
              "</div>"
            ],
            "text/plain": [
              "       internet_users_per_100        Math     Reading     Science\n",
              "count                7.000000    7.000000    7.000000    7.000000\n",
              "mean                60.180494  402.887700  425.359229  421.747186\n",
              "std                  9.772455   18.128894   19.709688   18.470319\n",
              "min                 40.900000  377.069500  397.541400  396.683600\n",
              "25%                 57.116462  388.102200  416.126900  408.205450\n",
              "50%                 64.289000  409.033300  425.303100  424.590500\n",
              "75%                 66.321532  417.617650  431.922700  433.794600\n",
              "max                 69.198471  422.671400  458.570900  446.956100"
            ]
          },
          "metadata": {},
          "execution_count": 114
        }
      ]
    },
    {
      "cell_type": "code",
      "metadata": {
        "colab": {
          "base_uri": "https://localhost:8080/"
        },
        "id": "5R-_o9Cmsnme",
        "outputId": "b6ac4ce8-35a7-4d52-ad34-d19bf003a804"
      },
      "source": [
        "df_SA.shape"
      ],
      "execution_count": 115,
      "outputs": [
        {
          "output_type": "execute_result",
          "data": {
            "text/plain": [
              "(7, 6)"
            ]
          },
          "metadata": {},
          "execution_count": 115
        }
      ]
    },
    {
      "cell_type": "code",
      "metadata": {
        "colab": {
          "base_uri": "https://localhost:8080/"
        },
        "id": "Msn3BWfDsnrl",
        "outputId": "0535ec56-0d9f-48cd-e76a-d881de7fd35c"
      },
      "source": [
        "df_SA.var()"
      ],
      "execution_count": 116,
      "outputs": [
        {
          "output_type": "execute_result",
          "data": {
            "text/plain": [
              "internet_users_per_100     95.500869\n",
              "Math                      328.656783\n",
              "Reading                   388.471816\n",
              "Science                   341.152678\n",
              "dtype: float64"
            ]
          },
          "metadata": {},
          "execution_count": 116
        }
      ]
    },
    {
      "cell_type": "code",
      "metadata": {
        "colab": {
          "base_uri": "https://localhost:8080/",
          "height": 374
        },
        "id": "GL9ifI9rsnxB",
        "outputId": "53b204a6-bf4d-41bc-82aa-1daf5cca7df3"
      },
      "source": [
        "fig = plt.subplots(figsize=(12, 6))\n",
        "\n",
        "sns.boxplot(data=df_SA,orient=\"h\");"
      ],
      "execution_count": 118,
      "outputs": [
        {
          "output_type": "display_data",
          "data": {
            "image/png": "[encoded data removed]",
            "text/plain": [
              "<Figure size 864x432 with 1 Axes>"
            ]
          },
          "metadata": {
            "needs_background": "light"
          }
        }
      ]
    },
    {
      "cell_type": "code",
      "metadata": {
        "colab": {
          "base_uri": "https://localhost:8080/",
          "height": 932
        },
        "id": "CLsUAnhGsn1l",
        "outputId": "f4710272-8cad-4242-f0f2-4e0f98b28aa6"
      },
      "source": [
        "fig, axs = plt.subplots(2, 2, figsize=(16, 16))\n",
        "\n",
        "sns.histplot(data=df_SA, x=\"internet_users_per_100\", kde=True, color=\"red\", ax=axs[0, 0])\n",
        "sns.histplot(data=df_SA, x=\"Math\", kde=True, color=\"blue\", ax=axs[0, 1])\n",
        "sns.histplot(data=df_SA, x=\"Reading\", kde=True, color=\"green\", ax=axs[1, 0])\n",
        "sns.histplot(data=df_SA, x=\"Science\", kde=True, color=\"yellow\", ax=axs[1, 1]);"
      ],
      "execution_count": 119,
      "outputs": [
        {
          "output_type": "display_data",
          "data": {
            "image/png": "[encoded data removed]",
            "text/plain": [
              "<Figure size 1152x1152 with 4 Axes>"
            ]
          },
          "metadata": {
            "needs_background": "light"
          }
        }
      ]
    },
    {
      "cell_type": "code",
      "metadata": {
        "id": "PC-78cMqsoBv"
      },
      "source": [
        ""
      ],
      "execution_count": null,
      "outputs": []
    },
    {
      "cell_type": "code",
      "metadata": {
        "colab": {
          "base_uri": "https://localhost:8080/",
          "height": 111
        },
        "id": "4YWfePX_tAw6",
        "outputId": "a9056e03-a369-4a56-bbb8-fbd7cf07db96"
      },
      "source": [
        "# for OC\n",
        "\n",
        "df_OC = df_pisa[df_pisa[\"Continent_Code\"]==\"OC\"]\n",
        "df_OC.head()"
      ],
      "execution_count": 120,
      "outputs": [
        {
          "output_type": "execute_result",
          "data": {
            "text/html": [
              "<div>\n",
              "<style scoped>\n",
              "    .dataframe tbody tr th:only-of-type {\n",
              "        vertical-align: middle;\n",
              "    }\n",
              "\n",
              "    .dataframe tbody tr th {\n",
              "        vertical-align: top;\n",
              "    }\n",
              "\n",
              "    .dataframe thead th {\n",
              "        text-align: right;\n",
              "    }\n",
              "</style>\n",
              "<table border=\"1\" class=\"dataframe\">\n",
              "  <thead>\n",
              "    <tr style=\"text-align: right;\">\n",
              "      <th></th>\n",
              "      <th>Country Code</th>\n",
              "      <th>Continent_Code</th>\n",
              "      <th>internet_users_per_100</th>\n",
              "      <th>Math</th>\n",
              "      <th>Reading</th>\n",
              "      <th>Science</th>\n",
              "    </tr>\n",
              "  </thead>\n",
              "  <tbody>\n",
              "    <tr>\n",
              "      <th>3</th>\n",
              "      <td>AUS</td>\n",
              "      <td>OC</td>\n",
              "      <td>84.560519</td>\n",
              "      <td>493.8962</td>\n",
              "      <td>502.9006</td>\n",
              "      <td>509.9939</td>\n",
              "    </tr>\n",
              "    <tr>\n",
              "      <th>52</th>\n",
              "      <td>NZL</td>\n",
              "      <td>OC</td>\n",
              "      <td>88.222889</td>\n",
              "      <td>495.2233</td>\n",
              "      <td>509.2707</td>\n",
              "      <td>513.3035</td>\n",
              "    </tr>\n",
              "  </tbody>\n",
              "</table>\n",
              "</div>"
            ],
            "text/plain": [
              "   Country Code Continent_Code  ...   Reading   Science\n",
              "3           AUS             OC  ...  502.9006  509.9939\n",
              "52          NZL             OC  ...  509.2707  513.3035\n",
              "\n",
              "[2 rows x 6 columns]"
            ]
          },
          "metadata": {},
          "execution_count": 120
        }
      ]
    },
    {
      "cell_type": "code",
      "metadata": {
        "colab": {
          "base_uri": "https://localhost:8080/",
          "height": 297
        },
        "id": "i0du215otA-t",
        "outputId": "a678cab4-2307-4733-e8c0-a513414c0855"
      },
      "source": [
        "df_OC.describe()"
      ],
      "execution_count": 121,
      "outputs": [
        {
          "output_type": "execute_result",
          "data": {
            "text/html": [
              "<div>\n",
              "<style scoped>\n",
              "    .dataframe tbody tr th:only-of-type {\n",
              "        vertical-align: middle;\n",
              "    }\n",
              "\n",
              "    .dataframe tbody tr th {\n",
              "        vertical-align: top;\n",
              "    }\n",
              "\n",
              "    .dataframe thead th {\n",
              "        text-align: right;\n",
              "    }\n",
              "</style>\n",
              "<table border=\"1\" class=\"dataframe\">\n",
              "  <thead>\n",
              "    <tr style=\"text-align: right;\">\n",
              "      <th></th>\n",
              "      <th>internet_users_per_100</th>\n",
              "      <th>Math</th>\n",
              "      <th>Reading</th>\n",
              "      <th>Science</th>\n",
              "    </tr>\n",
              "  </thead>\n",
              "  <tbody>\n",
              "    <tr>\n",
              "      <th>count</th>\n",
              "      <td>2.000000</td>\n",
              "      <td>2.000000</td>\n",
              "      <td>2.000000</td>\n",
              "      <td>2.000000</td>\n",
              "    </tr>\n",
              "    <tr>\n",
              "      <th>mean</th>\n",
              "      <td>86.391704</td>\n",
              "      <td>494.559750</td>\n",
              "      <td>506.085650</td>\n",
              "      <td>511.648700</td>\n",
              "    </tr>\n",
              "    <tr>\n",
              "      <th>std</th>\n",
              "      <td>2.589686</td>\n",
              "      <td>0.938401</td>\n",
              "      <td>4.504341</td>\n",
              "      <td>2.340241</td>\n",
              "    </tr>\n",
              "    <tr>\n",
              "      <th>min</th>\n",
              "      <td>84.560519</td>\n",
              "      <td>493.896200</td>\n",
              "      <td>502.900600</td>\n",
              "      <td>509.993900</td>\n",
              "    </tr>\n",
              "    <tr>\n",
              "      <th>25%</th>\n",
              "      <td>85.476112</td>\n",
              "      <td>494.227975</td>\n",
              "      <td>504.493125</td>\n",
              "      <td>510.821300</td>\n",
              "    </tr>\n",
              "    <tr>\n",
              "      <th>50%</th>\n",
              "      <td>86.391704</td>\n",
              "      <td>494.559750</td>\n",
              "      <td>506.085650</td>\n",
              "      <td>511.648700</td>\n",
              "    </tr>\n",
              "    <tr>\n",
              "      <th>75%</th>\n",
              "      <td>87.307296</td>\n",
              "      <td>494.891525</td>\n",
              "      <td>507.678175</td>\n",
              "      <td>512.476100</td>\n",
              "    </tr>\n",
              "    <tr>\n",
              "      <th>max</th>\n",
              "      <td>88.222889</td>\n",
              "      <td>495.223300</td>\n",
              "      <td>509.270700</td>\n",
              "      <td>513.303500</td>\n",
              "    </tr>\n",
              "  </tbody>\n",
              "</table>\n",
              "</div>"
            ],
            "text/plain": [
              "       internet_users_per_100        Math     Reading     Science\n",
              "count                2.000000    2.000000    2.000000    2.000000\n",
              "mean                86.391704  494.559750  506.085650  511.648700\n",
              "std                  2.589686    0.938401    4.504341    2.340241\n",
              "min                 84.560519  493.896200  502.900600  509.993900\n",
              "25%                 85.476112  494.227975  504.493125  510.821300\n",
              "50%                 86.391704  494.559750  506.085650  511.648700\n",
              "75%                 87.307296  494.891525  507.678175  512.476100\n",
              "max                 88.222889  495.223300  509.270700  513.303500"
            ]
          },
          "metadata": {},
          "execution_count": 121
        }
      ]
    },
    {
      "cell_type": "code",
      "metadata": {
        "colab": {
          "base_uri": "https://localhost:8080/"
        },
        "id": "01RKGnDhtBIo",
        "outputId": "d04b7874-2370-4177-fd66-db9d153bc3e3"
      },
      "source": [
        "df_OC.shape"
      ],
      "execution_count": 122,
      "outputs": [
        {
          "output_type": "execute_result",
          "data": {
            "text/plain": [
              "(2, 6)"
            ]
          },
          "metadata": {},
          "execution_count": 122
        }
      ]
    },
    {
      "cell_type": "code",
      "metadata": {
        "colab": {
          "base_uri": "https://localhost:8080/"
        },
        "id": "AplCUhsvtBRx",
        "outputId": "572340d5-4d42-406b-9b3b-df9b0f587063"
      },
      "source": [
        "df_OC.var()"
      ],
      "execution_count": 123,
      "outputs": [
        {
          "output_type": "execute_result",
          "data": {
            "text/plain": [
              "internet_users_per_100     6.706475\n",
              "Math                       0.880597\n",
              "Reading                   20.289087\n",
              "Science                    5.476726\n",
              "dtype: float64"
            ]
          },
          "metadata": {},
          "execution_count": 123
        }
      ]
    },
    {
      "cell_type": "code",
      "metadata": {
        "colab": {
          "base_uri": "https://localhost:8080/",
          "height": 375
        },
        "id": "3_6a68AttBbZ",
        "outputId": "dc9de42b-c11e-488c-898d-4ce75506929d"
      },
      "source": [
        "fig = plt.subplots(figsize=(12, 6))\n",
        "\n",
        "sns.boxplot(data=df_OC);"
      ],
      "execution_count": 124,
      "outputs": [
        {
          "output_type": "display_data",
          "data": {
            "image/png": "[encoded data removed]",
            "text/plain": [
              "<Figure size 864x432 with 1 Axes>"
            ]
          },
          "metadata": {
            "needs_background": "light"
          }
        }
      ]
    },
    {
      "cell_type": "code",
      "metadata": {
        "colab": {
          "base_uri": "https://localhost:8080/",
          "height": 932
        },
        "id": "ZyKK9v_0tBkk",
        "outputId": "57184e78-1c78-47af-fd4e-e2dd85860521"
      },
      "source": [
        "fig, axs = plt.subplots(2, 2, figsize=(16, 16))\n",
        "\n",
        "sns.histplot(data=df_OC, x=\"internet_users_per_100\", kde=True, color=\"red\", ax=axs[0, 0])\n",
        "sns.histplot(data=df_OC, x=\"Math\", kde=True, color=\"blue\", ax=axs[0, 1])\n",
        "sns.histplot(data=df_OC, x=\"Reading\", kde=True, color=\"green\", ax=axs[1, 0])\n",
        "sns.histplot(data=df_OC, x=\"Science\", kde=True, color=\"yellow\", ax=axs[1, 1]);"
      ],
      "execution_count": 125,
      "outputs": [
        {
          "output_type": "display_data",
          "data": {
            "image/png": "[encoded data removed]",
            "text/plain": [
              "<Figure size 1152x1152 with 4 Axes>"
            ]
          },
          "metadata": {
            "needs_background": "light"
          }
        }
      ]
    },
    {
      "cell_type": "code",
      "metadata": {
        "id": "jOkztNBOtBvP"
      },
      "source": [
        ""
      ],
      "execution_count": null,
      "outputs": []
    },
    {
      "cell_type": "code",
      "metadata": {
        "colab": {
          "base_uri": "https://localhost:8080/",
          "height": 204
        },
        "id": "BfkrDa5htB01",
        "outputId": "a39ffcaa-5e6b-4065-c5aa-1755ff7448a3"
      },
      "source": [
        "# for AF\n",
        "\n",
        "df_AF = df_pisa[df_pisa[\"Continent_Code\"]==\"SA\"]\n",
        "df_AF.head()"
      ],
      "execution_count": 126,
      "outputs": [
        {
          "output_type": "execute_result",
          "data": {
            "text/html": [
              "<div>\n",
              "<style scoped>\n",
              "    .dataframe tbody tr th:only-of-type {\n",
              "        vertical-align: middle;\n",
              "    }\n",
              "\n",
              "    .dataframe tbody tr th {\n",
              "        vertical-align: top;\n",
              "    }\n",
              "\n",
              "    .dataframe thead th {\n",
              "        text-align: right;\n",
              "    }\n",
              "</style>\n",
              "<table border=\"1\" class=\"dataframe\">\n",
              "  <thead>\n",
              "    <tr style=\"text-align: right;\">\n",
              "      <th></th>\n",
              "      <th>Country Code</th>\n",
              "      <th>Continent_Code</th>\n",
              "      <th>internet_users_per_100</th>\n",
              "      <th>Math</th>\n",
              "      <th>Reading</th>\n",
              "      <th>Science</th>\n",
              "    </tr>\n",
              "  </thead>\n",
              "  <tbody>\n",
              "    <tr>\n",
              "      <th>2</th>\n",
              "      <td>ARG</td>\n",
              "      <td>SA</td>\n",
              "      <td>68.043064</td>\n",
              "      <td>409.0333</td>\n",
              "      <td>425.3031</td>\n",
              "      <td>432.2262</td>\n",
              "    </tr>\n",
              "    <tr>\n",
              "      <th>7</th>\n",
              "      <td>BRA</td>\n",
              "      <td>SA</td>\n",
              "      <td>58.327952</td>\n",
              "      <td>377.0695</td>\n",
              "      <td>407.3486</td>\n",
              "      <td>400.6821</td>\n",
              "    </tr>\n",
              "    <tr>\n",
              "      <th>10</th>\n",
              "      <td>CHL</td>\n",
              "      <td>SA</td>\n",
              "      <td>64.289000</td>\n",
              "      <td>422.6714</td>\n",
              "      <td>458.5709</td>\n",
              "      <td>446.9561</td>\n",
              "    </tr>\n",
              "    <tr>\n",
              "      <th>12</th>\n",
              "      <td>COL</td>\n",
              "      <td>SA</td>\n",
              "      <td>55.904973</td>\n",
              "      <td>389.6438</td>\n",
              "      <td>424.9052</td>\n",
              "      <td>415.7288</td>\n",
              "    </tr>\n",
              "    <tr>\n",
              "      <th>53</th>\n",
              "      <td>PER</td>\n",
              "      <td>SA</td>\n",
              "      <td>40.900000</td>\n",
              "      <td>386.5606</td>\n",
              "      <td>397.5414</td>\n",
              "      <td>396.6836</td>\n",
              "    </tr>\n",
              "  </tbody>\n",
              "</table>\n",
              "</div>"
            ],
            "text/plain": [
              "   Country Code Continent_Code  ...   Reading   Science\n",
              "2           ARG             SA  ...  425.3031  432.2262\n",
              "7           BRA             SA  ...  407.3486  400.6821\n",
              "10          CHL             SA  ...  458.5709  446.9561\n",
              "12          COL             SA  ...  424.9052  415.7288\n",
              "53          PER             SA  ...  397.5414  396.6836\n",
              "\n",
              "[5 rows x 6 columns]"
            ]
          },
          "metadata": {},
          "execution_count": 126
        }
      ]
    },
    {
      "cell_type": "code",
      "metadata": {
        "colab": {
          "base_uri": "https://localhost:8080/",
          "height": 297
        },
        "id": "GJKqBThWtZbn",
        "outputId": "11cf9e43-4778-4e91-ce31-05eec380d099"
      },
      "source": [
        "df_AF.describe()"
      ],
      "execution_count": 127,
      "outputs": [
        {
          "output_type": "execute_result",
          "data": {
            "text/html": [
              "<div>\n",
              "<style scoped>\n",
              "    .dataframe tbody tr th:only-of-type {\n",
              "        vertical-align: middle;\n",
              "    }\n",
              "\n",
              "    .dataframe tbody tr th {\n",
              "        vertical-align: top;\n",
              "    }\n",
              "\n",
              "    .dataframe thead th {\n",
              "        text-align: right;\n",
              "    }\n",
              "</style>\n",
              "<table border=\"1\" class=\"dataframe\">\n",
              "  <thead>\n",
              "    <tr style=\"text-align: right;\">\n",
              "      <th></th>\n",
              "      <th>internet_users_per_100</th>\n",
              "      <th>Math</th>\n",
              "      <th>Reading</th>\n",
              "      <th>Science</th>\n",
              "    </tr>\n",
              "  </thead>\n",
              "  <tbody>\n",
              "    <tr>\n",
              "      <th>count</th>\n",
              "      <td>7.000000</td>\n",
              "      <td>7.000000</td>\n",
              "      <td>7.000000</td>\n",
              "      <td>7.000000</td>\n",
              "    </tr>\n",
              "    <tr>\n",
              "      <th>mean</th>\n",
              "      <td>60.180494</td>\n",
              "      <td>402.887700</td>\n",
              "      <td>425.359229</td>\n",
              "      <td>421.747186</td>\n",
              "    </tr>\n",
              "    <tr>\n",
              "      <th>std</th>\n",
              "      <td>9.772455</td>\n",
              "      <td>18.128894</td>\n",
              "      <td>19.709688</td>\n",
              "      <td>18.470319</td>\n",
              "    </tr>\n",
              "    <tr>\n",
              "      <th>min</th>\n",
              "      <td>40.900000</td>\n",
              "      <td>377.069500</td>\n",
              "      <td>397.541400</td>\n",
              "      <td>396.683600</td>\n",
              "    </tr>\n",
              "    <tr>\n",
              "      <th>25%</th>\n",
              "      <td>57.116462</td>\n",
              "      <td>388.102200</td>\n",
              "      <td>416.126900</td>\n",
              "      <td>408.205450</td>\n",
              "    </tr>\n",
              "    <tr>\n",
              "      <th>50%</th>\n",
              "      <td>64.289000</td>\n",
              "      <td>409.033300</td>\n",
              "      <td>425.303100</td>\n",
              "      <td>424.590500</td>\n",
              "    </tr>\n",
              "    <tr>\n",
              "      <th>75%</th>\n",
              "      <td>66.321532</td>\n",
              "      <td>417.617650</td>\n",
              "      <td>431.922700</td>\n",
              "      <td>433.794600</td>\n",
              "    </tr>\n",
              "    <tr>\n",
              "      <th>max</th>\n",
              "      <td>69.198471</td>\n",
              "      <td>422.671400</td>\n",
              "      <td>458.570900</td>\n",
              "      <td>446.956100</td>\n",
              "    </tr>\n",
              "  </tbody>\n",
              "</table>\n",
              "</div>"
            ],
            "text/plain": [
              "       internet_users_per_100        Math     Reading     Science\n",
              "count                7.000000    7.000000    7.000000    7.000000\n",
              "mean                60.180494  402.887700  425.359229  421.747186\n",
              "std                  9.772455   18.128894   19.709688   18.470319\n",
              "min                 40.900000  377.069500  397.541400  396.683600\n",
              "25%                 57.116462  388.102200  416.126900  408.205450\n",
              "50%                 64.289000  409.033300  425.303100  424.590500\n",
              "75%                 66.321532  417.617650  431.922700  433.794600\n",
              "max                 69.198471  422.671400  458.570900  446.956100"
            ]
          },
          "metadata": {},
          "execution_count": 127
        }
      ]
    },
    {
      "cell_type": "code",
      "metadata": {
        "colab": {
          "base_uri": "https://localhost:8080/"
        },
        "id": "6CsRuGc_tZoU",
        "outputId": "5d63bb29-0f3b-420a-ca19-dc07cead677a"
      },
      "source": [
        "df_AF.shape"
      ],
      "execution_count": 128,
      "outputs": [
        {
          "output_type": "execute_result",
          "data": {
            "text/plain": [
              "(7, 6)"
            ]
          },
          "metadata": {},
          "execution_count": 128
        }
      ]
    },
    {
      "cell_type": "code",
      "metadata": {
        "colab": {
          "base_uri": "https://localhost:8080/"
        },
        "id": "5fAiXHNltZ3W",
        "outputId": "a682b1c3-094a-4f50-a74b-bfa539440709"
      },
      "source": [
        "df_AF.var()"
      ],
      "execution_count": 129,
      "outputs": [
        {
          "output_type": "execute_result",
          "data": {
            "text/plain": [
              "internet_users_per_100     95.500869\n",
              "Math                      328.656783\n",
              "Reading                   388.471816\n",
              "Science                   341.152678\n",
              "dtype: float64"
            ]
          },
          "metadata": {},
          "execution_count": 129
        }
      ]
    },
    {
      "cell_type": "code",
      "metadata": {
        "colab": {
          "base_uri": "https://localhost:8080/",
          "height": 375
        },
        "id": "P6SQRImTtaCU",
        "outputId": "6e00f4be-5716-4142-d6f0-1b52f172e35e"
      },
      "source": [
        "fig = plt.subplots(figsize=(12, 6))\n",
        "\n",
        "sns.boxplot(data=df_AF);"
      ],
      "execution_count": 131,
      "outputs": [
        {
          "output_type": "display_data",
          "data": {
            "image/png": "[encoded data removed]",
            "text/plain": [
              "<Figure size 864x432 with 1 Axes>"
            ]
          },
          "metadata": {
            "needs_background": "light"
          }
        }
      ]
    },
    {
      "cell_type": "code",
      "metadata": {
        "colab": {
          "base_uri": "https://localhost:8080/",
          "height": 932
        },
        "id": "MPc4dqRftaNL",
        "outputId": "e7c4e8ba-bd24-4159-928e-5888824bc2fd"
      },
      "source": [
        "fig, axs = plt.subplots(2, 2, figsize=(16, 16))\n",
        "\n",
        "sns.histplot(data=df_AF, x=\"internet_users_per_100\", kde=True, color=\"red\", ax=axs[0, 0])\n",
        "sns.histplot(data=df_AF, x=\"Math\", kde=True, color=\"blue\", ax=axs[0, 1])\n",
        "sns.histplot(data=df_AF, x=\"Reading\", kde=True, color=\"green\", ax=axs[1, 0])\n",
        "sns.histplot(data=df_AF, x=\"Science\", kde=True, color=\"yellow\", ax=axs[1, 1]);"
      ],
      "execution_count": 132,
      "outputs": [
        {
          "output_type": "display_data",
          "data": {
            "image/png": "[encoded data removed]",
            "text/plain": [
              "<Figure size 1152x1152 with 4 Axes>"
            ]
          },
          "metadata": {
            "needs_background": "light"
          }
        }
      ]
    },
    {
      "cell_type": "code",
      "metadata": {
        "id": "cou4kdeftaYn"
      },
      "source": [
        ""
      ],
      "execution_count": null,
      "outputs": []
    },
    {
      "cell_type": "code",
      "metadata": {
        "colab": {
          "base_uri": "https://localhost:8080/"
        },
        "id": "BmBEUvYwtajf",
        "outputId": "bf5be62e-297c-4235-cfcf-c93a241ff134"
      },
      "source": [
        "# ii)\n",
        "\n",
        "statistic, pvalue = stats.ttest_ind(df_EU.Math, df_AS.Math, nan_policy='omit')  \n",
        "\n",
        "statistic, pvalue"
      ],
      "execution_count": 134,
      "outputs": [
        {
          "output_type": "execute_result",
          "data": {
            "text/plain": [
              "(0.870055317967983, 0.38826888111307345)"
            ]
          },
          "metadata": {},
          "execution_count": 134
        }
      ]
    },
    {
      "cell_type": "code",
      "metadata": {
        "id": "vsXyJ_aktawh"
      },
      "source": [
        "# test statistic = 0.870055317967983 and the corresponding two-sided p-value = 0.38826888111307345.\n",
        "\n",
        "# two-tailed critical value at 0.05% level of significance is tα/2 = 0.05/2 = 0.025 = 1.965 which is our critical value for t-value comparison."
      ],
      "execution_count": null,
      "outputs": []
    },
    {
      "cell_type": "code",
      "metadata": {
        "colab": {
          "base_uri": "https://localhost:8080/"
        },
        "id": "lJfTVvk9t1II",
        "outputId": "f569c91d-dea8-4719-ec69-67635a03c6aa"
      },
      "source": [
        "crt_pvalue = 0.025\n",
        "\n",
        "if pvalue < crt_pvalue:\n",
        "    print(\"reject the null\")\n",
        "else:\n",
        "    print(\"fail to reject\")"
      ],
      "execution_count": 135,
      "outputs": [
        {
          "output_type": "stream",
          "name": "stdout",
          "text": [
            "fail to reject\n"
          ]
        }
      ]
    },
    {
      "cell_type": "code",
      "metadata": {
        "colab": {
          "base_uri": "https://localhost:8080/",
          "height": 295
        },
        "id": "83ZxUCIvt1Vg",
        "outputId": "9185a41b-d770-43d8-ed21-6453b9c5af41"
      },
      "source": [
        "fig, axes = plt.subplots(1,2, figsize=(12,4))\n",
        "\n",
        "sns.boxplot(df_EU['Math'], ax=axes[0]).set(title='PISA Math Scores in EU')\n",
        "sns.boxplot(df_AS['Math'], ax=axes[1]).set(title='PISA Math Scores in AS')\n",
        "\n",
        "axes[0].set(xlabel='Math Scores in EU')\n",
        "axes[1].set(xlabel='Math Scores in AS');"
      ],
      "execution_count": 136,
      "outputs": [
        {
          "output_type": "display_data",
          "data": {
            "image/png": "[encoded data removed]",
            "text/plain": [
              "<Figure size 864x288 with 2 Axes>"
            ]
          },
          "metadata": {
            "needs_background": "light"
          }
        }
      ]
    },
    {
      "cell_type": "code",
      "metadata": {
        "id": "a_sU9Cd7t1ga"
      },
      "source": [
        ""
      ],
      "execution_count": null,
      "outputs": []
    },
    {
      "cell_type": "code",
      "metadata": {
        "id": "ByZKx3kQt1k1"
      },
      "source": [
        "# EXERCISE 4\n",
        "\n",
        "df_scores = pd.read_csv(\"/content/students_2014 - students_2014.csv\", sep = \",\", na_values = \".\", index_col = 0)"
      ],
      "execution_count": 137,
      "outputs": []
    },
    {
      "cell_type": "code",
      "metadata": {
        "colab": {
          "base_uri": "https://localhost:8080/",
          "height": 357
        },
        "id": "YuUkqu6Tt1re",
        "outputId": "02f0a40c-8062-4fa1-c5d3-f04205461d48"
      },
      "source": [
        "df_scores.sample(5)"
      ],
      "execution_count": 138,
      "outputs": [
        {
          "output_type": "execute_result",
          "data": {
            "text/html": [
              "<div>\n",
              "<style scoped>\n",
              "    .dataframe tbody tr th:only-of-type {\n",
              "        vertical-align: middle;\n",
              "    }\n",
              "\n",
              "    .dataframe tbody tr th {\n",
              "        vertical-align: top;\n",
              "    }\n",
              "\n",
              "    .dataframe thead th {\n",
              "        text-align: right;\n",
              "    }\n",
              "</style>\n",
              "<table border=\"1\" class=\"dataframe\">\n",
              "  <thead>\n",
              "    <tr style=\"text-align: right;\">\n",
              "      <th></th>\n",
              "      <th>bday</th>\n",
              "      <th>enrolldate</th>\n",
              "      <th>expgradate</th>\n",
              "      <th>Rank</th>\n",
              "      <th>Major</th>\n",
              "      <th>Gender</th>\n",
              "      <th>Athlete</th>\n",
              "      <th>Height</th>\n",
              "      <th>Weight</th>\n",
              "      <th>Smoking</th>\n",
              "      <th>Sprint</th>\n",
              "      <th>MileMinDur</th>\n",
              "      <th>English</th>\n",
              "      <th>Reading</th>\n",
              "      <th>Math</th>\n",
              "      <th>Writing</th>\n",
              "      <th>State</th>\n",
              "      <th>LiveOnCampus</th>\n",
              "      <th>HowCommute</th>\n",
              "      <th>CommuteTime</th>\n",
              "      <th>SleepTime</th>\n",
              "      <th>StudyTime</th>\n",
              "    </tr>\n",
              "    <tr>\n",
              "      <th>ids</th>\n",
              "      <th></th>\n",
              "      <th></th>\n",
              "      <th></th>\n",
              "      <th></th>\n",
              "      <th></th>\n",
              "      <th></th>\n",
              "      <th></th>\n",
              "      <th></th>\n",
              "      <th></th>\n",
              "      <th></th>\n",
              "      <th></th>\n",
              "      <th></th>\n",
              "      <th></th>\n",
              "      <th></th>\n",
              "      <th></th>\n",
              "      <th></th>\n",
              "      <th></th>\n",
              "      <th></th>\n",
              "      <th></th>\n",
              "      <th></th>\n",
              "      <th></th>\n",
              "      <th></th>\n",
              "    </tr>\n",
              "  </thead>\n",
              "  <tbody>\n",
              "    <tr>\n",
              "      <th>45256</th>\n",
              "      <td>3/3/1989</td>\n",
              "      <td>1-Aug-2011</td>\n",
              "      <td>09-May-2016</td>\n",
              "      <td>4.0</td>\n",
              "      <td>Interior design</td>\n",
              "      <td>1.0</td>\n",
              "      <td>1</td>\n",
              "      <td>NaN</td>\n",
              "      <td>174.82</td>\n",
              "      <td>2.0</td>\n",
              "      <td>6.486</td>\n",
              "      <td>0:07:11</td>\n",
              "      <td>84.96</td>\n",
              "      <td>90.88</td>\n",
              "      <td>59.03</td>\n",
              "      <td>79.53</td>\n",
              "      <td>In state</td>\n",
              "      <td>NaN</td>\n",
              "      <td>3.0</td>\n",
              "      <td>31.0</td>\n",
              "      <td>7.0</td>\n",
              "      <td>NaN</td>\n",
              "    </tr>\n",
              "    <tr>\n",
              "      <th>36173</th>\n",
              "      <td>6/21/1994</td>\n",
              "      <td>4-Aug-2014</td>\n",
              "      <td>13-May-2019</td>\n",
              "      <td>1.0</td>\n",
              "      <td>bfa music</td>\n",
              "      <td>1.0</td>\n",
              "      <td>1</td>\n",
              "      <td>68.37</td>\n",
              "      <td>171.67</td>\n",
              "      <td>2.0</td>\n",
              "      <td>6.295</td>\n",
              "      <td>0:05:54</td>\n",
              "      <td>76.98</td>\n",
              "      <td>69.59</td>\n",
              "      <td>66.05</td>\n",
              "      <td>71.83</td>\n",
              "      <td>In state</td>\n",
              "      <td>1.0</td>\n",
              "      <td>NaN</td>\n",
              "      <td>NaN</td>\n",
              "      <td>5.0</td>\n",
              "      <td>4.0</td>\n",
              "    </tr>\n",
              "    <tr>\n",
              "      <th>24556</th>\n",
              "      <td>11/10/1994</td>\n",
              "      <td>4-Aug-2014</td>\n",
              "      <td>11-May-2020</td>\n",
              "      <td>1.0</td>\n",
              "      <td>finance</td>\n",
              "      <td>1.0</td>\n",
              "      <td>0</td>\n",
              "      <td>NaN</td>\n",
              "      <td>180.44</td>\n",
              "      <td>0.0</td>\n",
              "      <td>6.259</td>\n",
              "      <td>0:09:09</td>\n",
              "      <td>84.09</td>\n",
              "      <td>69.80</td>\n",
              "      <td>NaN</td>\n",
              "      <td>NaN</td>\n",
              "      <td>In state</td>\n",
              "      <td>1.0</td>\n",
              "      <td>NaN</td>\n",
              "      <td>NaN</td>\n",
              "      <td>8.0</td>\n",
              "      <td>1.0</td>\n",
              "    </tr>\n",
              "    <tr>\n",
              "      <th>44517</th>\n",
              "      <td>3/11/1995</td>\n",
              "      <td>4-Aug-2014</td>\n",
              "      <td>11-May-2020</td>\n",
              "      <td>1.0</td>\n",
              "      <td>Environmental Science</td>\n",
              "      <td>1.0</td>\n",
              "      <td>1</td>\n",
              "      <td>66.07</td>\n",
              "      <td>137.00</td>\n",
              "      <td>0.0</td>\n",
              "      <td>6.826</td>\n",
              "      <td>0:07:29</td>\n",
              "      <td>69.81</td>\n",
              "      <td>70.58</td>\n",
              "      <td>35.32</td>\n",
              "      <td>70.73</td>\n",
              "      <td>In state</td>\n",
              "      <td>1.0</td>\n",
              "      <td>NaN</td>\n",
              "      <td>NaN</td>\n",
              "      <td>5.0</td>\n",
              "      <td>NaN</td>\n",
              "    </tr>\n",
              "    <tr>\n",
              "      <th>26140</th>\n",
              "      <td>10/21/1995</td>\n",
              "      <td>4-Aug-2014</td>\n",
              "      <td>11-May-2020</td>\n",
              "      <td>1.0</td>\n",
              "      <td>Aeronautics (Air Traffic Control)</td>\n",
              "      <td>1.0</td>\n",
              "      <td>1</td>\n",
              "      <td>69.02</td>\n",
              "      <td>195.56</td>\n",
              "      <td>0.0</td>\n",
              "      <td>4.634</td>\n",
              "      <td>0:05:36</td>\n",
              "      <td>83.15</td>\n",
              "      <td>83.95</td>\n",
              "      <td>77.60</td>\n",
              "      <td>89.07</td>\n",
              "      <td>Out of state</td>\n",
              "      <td>0.0</td>\n",
              "      <td>3.0</td>\n",
              "      <td>33.0</td>\n",
              "      <td>NaN</td>\n",
              "      <td>5.0</td>\n",
              "    </tr>\n",
              "  </tbody>\n",
              "</table>\n",
              "</div>"
            ],
            "text/plain": [
              "             bday  enrolldate   expgradate  ...  CommuteTime SleepTime  StudyTime\n",
              "ids                                         ...                                  \n",
              "45256    3/3/1989  1-Aug-2011  09-May-2016  ...         31.0       7.0        NaN\n",
              "36173   6/21/1994  4-Aug-2014  13-May-2019  ...          NaN       5.0        4.0\n",
              "24556  11/10/1994  4-Aug-2014  11-May-2020  ...          NaN       8.0        1.0\n",
              "44517   3/11/1995  4-Aug-2014  11-May-2020  ...          NaN       5.0        NaN\n",
              "26140  10/21/1995  4-Aug-2014  11-May-2020  ...         33.0       NaN        5.0\n",
              "\n",
              "[5 rows x 22 columns]"
            ]
          },
          "metadata": {},
          "execution_count": 138
        }
      ]
    },
    {
      "cell_type": "code",
      "metadata": {
        "colab": {
          "base_uri": "https://localhost:8080/"
        },
        "id": "rfT92fzNuXlw",
        "outputId": "6e8d241e-96a0-4dca-b807-1c9daf107ce8"
      },
      "source": [
        "df_scores.shape"
      ],
      "execution_count": 139,
      "outputs": [
        {
          "output_type": "execute_result",
          "data": {
            "text/plain": [
              "(435, 22)"
            ]
          },
          "metadata": {},
          "execution_count": 139
        }
      ]
    },
    {
      "cell_type": "code",
      "metadata": {
        "colab": {
          "base_uri": "https://localhost:8080/"
        },
        "id": "qp6_0ieiuX6o",
        "outputId": "fa90eeb4-99fb-445c-f621-8b1785aa0b67"
      },
      "source": [
        "df_scores[[\"English\", \"Math\"]].isnull().value_counts()"
      ],
      "execution_count": 140,
      "outputs": [
        {
          "output_type": "execute_result",
          "data": {
            "text/plain": [
              "English  Math \n",
              "False    False    398\n",
              "True     False     24\n",
              "False    True      11\n",
              "True     True       2\n",
              "dtype: int64"
            ]
          },
          "metadata": {},
          "execution_count": 140
        }
      ]
    },
    {
      "cell_type": "code",
      "metadata": {
        "id": "ZB2v6ERTuYIf"
      },
      "source": [
        "df_scoresdrop = df_scores[[\"English\", \"Math\"]].dropna()"
      ],
      "execution_count": 141,
      "outputs": []
    },
    {
      "cell_type": "code",
      "metadata": {
        "colab": {
          "base_uri": "https://localhost:8080/"
        },
        "id": "W4Qk1P5fuYSs",
        "outputId": "a9e37463-6241-4fe4-c474-3f79a1a6369d"
      },
      "source": [
        "df_scoresdrop.info()"
      ],
      "execution_count": 142,
      "outputs": [
        {
          "output_type": "stream",
          "name": "stdout",
          "text": [
            "<class 'pandas.core.frame.DataFrame'>\n",
            "Int64Index: 398 entries, 43783 to 39298\n",
            "Data columns (total 2 columns):\n",
            " #   Column   Non-Null Count  Dtype  \n",
            "---  ------   --------------  -----  \n",
            " 0   English  398 non-null    float64\n",
            " 1   Math     398 non-null    float64\n",
            "dtypes: float64(2)\n",
            "memory usage: 9.3 KB\n"
          ]
        }
      ]
    },
    {
      "cell_type": "code",
      "metadata": {
        "colab": {
          "base_uri": "https://localhost:8080/",
          "height": 297
        },
        "id": "xdP8Z-xluYc_",
        "outputId": "d0f4dbb7-2a81-45fc-c507-c99ccb07fe1e"
      },
      "source": [
        "df_scores[[\"English\", \"Math\"]].describe()"
      ],
      "execution_count": 143,
      "outputs": [
        {
          "output_type": "execute_result",
          "data": {
            "text/html": [
              "<div>\n",
              "<style scoped>\n",
              "    .dataframe tbody tr th:only-of-type {\n",
              "        vertical-align: middle;\n",
              "    }\n",
              "\n",
              "    .dataframe tbody tr th {\n",
              "        vertical-align: top;\n",
              "    }\n",
              "\n",
              "    .dataframe thead th {\n",
              "        text-align: right;\n",
              "    }\n",
              "</style>\n",
              "<table border=\"1\" class=\"dataframe\">\n",
              "  <thead>\n",
              "    <tr style=\"text-align: right;\">\n",
              "      <th></th>\n",
              "      <th>English</th>\n",
              "      <th>Math</th>\n",
              "    </tr>\n",
              "  </thead>\n",
              "  <tbody>\n",
              "    <tr>\n",
              "      <th>count</th>\n",
              "      <td>409.000000</td>\n",
              "      <td>422.000000</td>\n",
              "    </tr>\n",
              "    <tr>\n",
              "      <th>mean</th>\n",
              "      <td>82.787555</td>\n",
              "      <td>65.468009</td>\n",
              "    </tr>\n",
              "    <tr>\n",
              "      <th>std</th>\n",
              "      <td>6.839803</td>\n",
              "      <td>8.375930</td>\n",
              "    </tr>\n",
              "    <tr>\n",
              "      <th>min</th>\n",
              "      <td>59.830000</td>\n",
              "      <td>35.320000</td>\n",
              "    </tr>\n",
              "    <tr>\n",
              "      <th>25%</th>\n",
              "      <td>78.330000</td>\n",
              "      <td>60.202500</td>\n",
              "    </tr>\n",
              "    <tr>\n",
              "      <th>50%</th>\n",
              "      <td>83.150000</td>\n",
              "      <td>65.445000</td>\n",
              "    </tr>\n",
              "    <tr>\n",
              "      <th>75%</th>\n",
              "      <td>87.170000</td>\n",
              "      <td>70.567500</td>\n",
              "    </tr>\n",
              "    <tr>\n",
              "      <th>max</th>\n",
              "      <td>101.950000</td>\n",
              "      <td>93.780000</td>\n",
              "    </tr>\n",
              "  </tbody>\n",
              "</table>\n",
              "</div>"
            ],
            "text/plain": [
              "          English        Math\n",
              "count  409.000000  422.000000\n",
              "mean    82.787555   65.468009\n",
              "std      6.839803    8.375930\n",
              "min     59.830000   35.320000\n",
              "25%     78.330000   60.202500\n",
              "50%     83.150000   65.445000\n",
              "75%     87.170000   70.567500\n",
              "max    101.950000   93.780000"
            ]
          },
          "metadata": {},
          "execution_count": 143
        }
      ]
    },
    {
      "cell_type": "code",
      "metadata": {
        "colab": {
          "base_uri": "https://localhost:8080/"
        },
        "id": "Ii15H8GeuiVS",
        "outputId": "21d5d127-2a1b-4be5-d33f-be294c47fd7a"
      },
      "source": [
        "english_mean =df_scores['English'].mean()\n",
        "english_mean"
      ],
      "execution_count": 148,
      "outputs": [
        {
          "output_type": "execute_result",
          "data": {
            "text/plain": [
              "82.78755501222493"
            ]
          },
          "metadata": {},
          "execution_count": 148
        }
      ]
    },
    {
      "cell_type": "code",
      "metadata": {
        "colab": {
          "base_uri": "https://localhost:8080/"
        },
        "id": "EkYDmPKIuij4",
        "outputId": "6ade008e-fd97-4783-d0b7-ef28bd916a4c"
      },
      "source": [
        "math_mean = df_scores['Math'].mean()\n",
        "math_mean"
      ],
      "execution_count": 149,
      "outputs": [
        {
          "output_type": "execute_result",
          "data": {
            "text/plain": [
              "65.46800947867297"
            ]
          },
          "metadata": {},
          "execution_count": 149
        }
      ]
    },
    {
      "cell_type": "code",
      "metadata": {
        "colab": {
          "base_uri": "https://localhost:8080/"
        },
        "id": "KiQnMiEduixk",
        "outputId": "1ec5be56-e228-4246-a76a-cc1c9a18ad60"
      },
      "source": [
        "meandiff = english_mean - math_mean\n",
        "meandiff"
      ],
      "execution_count": 151,
      "outputs": [
        {
          "output_type": "execute_result",
          "data": {
            "text/plain": [
              "17.31954553355196"
            ]
          },
          "metadata": {},
          "execution_count": 151
        }
      ]
    },
    {
      "cell_type": "code",
      "metadata": {
        "id": "jHUFBAzcui-1"
      },
      "source": [
        "# H0: µEnglish - µMath = 0 \n",
        "\n",
        "# H1: µEnglish - µMath ≠ 0 "
      ],
      "execution_count": null,
      "outputs": []
    },
    {
      "cell_type": "code",
      "metadata": {
        "colab": {
          "base_uri": "https://localhost:8080/"
        },
        "id": "luwDGSliujKX",
        "outputId": "ac229e4c-4874-40bd-8153-b505b1041d7e"
      },
      "source": [
        "stats.ttest_ind(df_scores.dropna()[\"English\"], df_scores.dropna()[\"Math\"])"
      ],
      "execution_count": 152,
      "outputs": [
        {
          "output_type": "execute_result",
          "data": {
            "text/plain": [
              "Ttest_indResult(statistic=10.787205641803522, pvalue=1.1746036768217507e-18)"
            ]
          },
          "metadata": {},
          "execution_count": 152
        }
      ]
    },
    {
      "cell_type": "code",
      "metadata": {
        "colab": {
          "base_uri": "https://localhost:8080/"
        },
        "id": "S1621kGdu1we",
        "outputId": "fdb96d87-603a-43af-ea00-105b9a5e353e"
      },
      "source": [
        "pair = stats.ttest_rel(df_scores[\"English\"], df_scores[\"Math\"], nan_policy='omit')\n",
        "pair"
      ],
      "execution_count": 154,
      "outputs": [
        {
          "output_type": "execute_result",
          "data": {
            "text/plain": [
              "Ttest_relResult(statistic=36.31256898171986, pvalue=3.071098719220689e-128)"
            ]
          },
          "metadata": {},
          "execution_count": 154
        }
      ]
    },
    {
      "cell_type": "code",
      "metadata": {
        "colab": {
          "base_uri": "https://localhost:8080/"
        },
        "id": "BjK26qVqu2ED",
        "outputId": "47f6f395-18d1-46db-b2a0-afa146c3d04a"
      },
      "source": [
        "t = pair.statistic\n",
        "t"
      ],
      "execution_count": 156,
      "outputs": [
        {
          "output_type": "execute_result",
          "data": {
            "text/plain": [
              "36.31256898171986"
            ]
          },
          "metadata": {},
          "execution_count": 156
        }
      ]
    },
    {
      "cell_type": "code",
      "metadata": {
        "colab": {
          "base_uri": "https://localhost:8080/"
        },
        "id": "2LqVVkQRu2RU",
        "outputId": "3fae8e7d-712c-4bde-e5a2-7ccdc28461e1"
      },
      "source": [
        "pvalue= pair.pvalue\n",
        "pvalue"
      ],
      "execution_count": 157,
      "outputs": [
        {
          "output_type": "execute_result",
          "data": {
            "text/plain": [
              "3.071098719220689e-128"
            ]
          },
          "metadata": {},
          "execution_count": 157
        }
      ]
    },
    {
      "cell_type": "code",
      "metadata": {
        "colab": {
          "base_uri": "https://localhost:8080/"
        },
        "id": "SgURkZcAu2bX",
        "outputId": "20fae72c-0633-4f47-8d7b-84bc6bd7c42f"
      },
      "source": [
        "\n",
        "critical_pvalue = 0.025\n",
        "\n",
        "if pvalue < critical_pvalue:\n",
        "    print(\"reject the null\")\n",
        "else:\n",
        "    print(\"fail to reject\")"
      ],
      "execution_count": 158,
      "outputs": [
        {
          "output_type": "stream",
          "name": "stdout",
          "text": [
            "reject the null\n"
          ]
        }
      ]
    },
    {
      "cell_type": "code",
      "metadata": {
        "id": "pf97Gj36u2n0"
      },
      "source": [
        ""
      ],
      "execution_count": null,
      "outputs": []
    }
  ]
}